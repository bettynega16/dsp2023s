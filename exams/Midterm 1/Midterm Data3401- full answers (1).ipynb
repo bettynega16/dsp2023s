{
 "cells": [
  {
   "cell_type": "markdown",
   "id": "9913d12b",
   "metadata": {},
   "source": [
    " # <center>Midterm Exam &ndash; DATA 3401 (Spring 2023)</center>\n",
    "\n",
    "## Start Date: 3/27\n",
    "## Due Date for Exercises 1 and 2:    3/27 (at 2:15pm))\n",
    "## Due Date: for Exercises 3, 4 and 5:     23/29 (at 12:59pm))\n",
    "\n",
    "## Midterm Rules\n",
    "\n",
    "This midterm exam is essentially like a short-term lab. Please work the exercises below **on your own**.   \n",
    "\n",
    "**You should push your answer for Exercises 1 and 2 by the end of Monday's class, 3/27, at 2:15 pm in your GitHub repo for this class as **Midterm-part1** in the **Exam** folder. The rest of the exam is a take-home exam, and you have time up to Wednesday, 3/29, at 12:59. When you have completed the take-home exam, you should again push your completed jupyter notebook to your GitHub repo for this class as **Midterm-part2** in the **Exam** folder.\n",
    "\n",
    "\n",
    "You may not discuss the problems with **anyone else**, including persons on an online internet forum. Consulting an outside source like this will be considered an academic integrity violation.\n",
    "\n",
    "You may use all class resources including previous labs and lectures, and anything posted on the course webpage.\n",
    "\n",
    "You may not use any function that trivializes a problem. For example, if I ask you to write a `max` function that computes the maximum entry in a list, you are not allowed to use the pre-defined Python function `max`; you must write your own."
   ]
  },
  {
   "cell_type": "markdown",
   "id": "dbe7db65",
   "metadata": {},
   "source": [
    "## Exercise 1\n",
    "1. Write a script or function that asks the user to input 3 numbers (floats or ints), and output the product of the 3 numbers.\n",
    "    1. You may use the `input()` function to take user input, or you may write a function with 3 input arguments without using `input()`\n",
    "1. Your code should display an error message if one of the inputs is not a number.\n",
    "1. Test your code on the following inputs:  \n",
    "    1. (5, -10, 20.0)\n",
    "    1. (1, \"blah\", 5)"
   ]
  },
  {
   "cell_type": "code",
   "execution_count": 17,
   "id": "57fcc256",
   "metadata": {},
   "outputs": [
    {
     "name": "stdout",
     "output_type": "stream",
     "text": [
      "The product of 5, -10, and 20.0 is: -1000.0\n"
     ]
    }
   ],
   "source": [
    "num1 = 5\n",
    "num2 = -10\n",
    "num3 = 20.0\n",
    "product = num1 * num2 * num3\n",
    "print(f\"The product of {num1}, {num2}, and {num3} is: {product}\")\n",
    "except ValueError as e:\n",
    "    print (\"Error:\",e)\n"
   ]
  },
  {
   "cell_type": "code",
   "execution_count": 42,
   "id": "e0ac7c92",
   "metadata": {},
   "outputs": [
    {
     "name": "stdout",
     "output_type": "stream",
     "text": [
      "Error: could not convert string to float: 'blah'\n"
     ]
    }
   ],
   "source": [
    "try: \n",
    "    num1 = float (1)\n",
    "    num2 = float (\"blah\")\n",
    "    num3 = 5\n",
    "    product = num1 * num2 * num3 \n",
    "    print(f\"The product of {num1}, {num2}, and {num3} is: {product}\")\n",
    "\n",
    "except ValueError as e:\n",
    "    print (\"Error:\",e)\n"
   ]
  },
  {
   "cell_type": "markdown",
   "id": "82b8368e",
   "metadata": {},
   "source": [
    "## Exercise 2\n",
    "1. Write a function which takes a list as input and outputs the largest **integer** entry. If there is none, return `None`.\n",
    "1. Test your function on the following lists\n",
    "    1. \\[ 1, 9, 10.2, 6, -2\\]\n",
    "    1. \\[1.2, 3/4, \"Hello World\"\\]"
   ]
  },
  {
   "cell_type": "code",
   "execution_count": 35,
   "id": "c01d73b0",
   "metadata": {},
   "outputs": [
    {
     "name": "stdout",
     "output_type": "stream",
     "text": [
      "The largest number in the list is: 10.2\n"
     ]
    }
   ],
   "source": [
    "def find_largest_number(numbers):\n",
    "    largest_number = None\n",
    "    for num in numbers:\n",
    "        if isinstance(num, (int, float)) and (largest_number is None or num > largest_number):\n",
    "            largest_number = num\n",
    "    return largest_number\n",
    "\n",
    "numbers = [ 1, 9, 10.2, 6, -2]\n",
    "largest_number = find_largest_number(numbers)\n",
    "\n",
    "if largest_number is not None:\n",
    "    print(\"The largest number in the list is:\", largest_number)\n",
    "else:\n",
    "    print(\"The list is empty or contains no valid numbers.\")\n"
   ]
  },
  {
   "cell_type": "code",
   "execution_count": 40,
   "id": "a00e6bc9",
   "metadata": {},
   "outputs": [],
   "source": [
    "def find_largest_integer(lst):\n",
    "    largest_integer = None\n",
    "    for item in lst:\n",
    "        if isinstance(item, int) and (largest_integer is None or item > largest_integer):\n",
    "            largest_integer = item\n",
    "    return largest_integer\n"
   ]
  },
  {
   "cell_type": "code",
   "execution_count": 41,
   "id": "012a833a",
   "metadata": {},
   "outputs": [
    {
     "name": "stdout",
     "output_type": "stream",
     "text": [
      "None\n"
     ]
    }
   ],
   "source": [
    "lst2 = [1.2, 3/4, \"Hello World\"]\n",
    "print(find_largest_integer(lst2))"
   ]
  },
  {
   "cell_type": "markdown",
   "id": "78622bb6",
   "metadata": {},
   "source": [
    "## Exercise 3\n",
    "Suppose the first element of a sequence is $a_0 = 1$, the second element is $a_1 = 3$, and for every $i>1$, the $i$--th element of the sequence is defined by the recursive relation $a_i = \\frac{(a_{i-1}-a_{i-2})^2}{3}$. (So $a_2 = 4/3$)\n",
    "1. Write a function which outputs the $n$--th element of this sequence for a given positive integer $n$\n",
    "2. Test your function for $n = 1, 5, 10, 15,$ and $20$"
   ]
  },
  {
   "cell_type": "code",
   "execution_count": 53,
   "id": "ceed43f2",
   "metadata": {},
   "outputs": [
    {
     "name": "stdout",
     "output_type": "stream",
     "text": [
      "2.6666666666666665\n"
     ]
    }
   ],
   "source": [
    "def sequence_element(i):\n",
    "    if i == 0:\n",
    "        return 1\n",
    "    elif i ==1:\n",
    "        return 3\n",
    "    else:\n",
    "        return ((sequence_element(i-1)**2-sequence_element(i-2)**2) /3)\n",
    "print (sequence_element(2))"
   ]
  },
  {
   "cell_type": "code",
   "execution_count": 54,
   "id": "734307f2",
   "metadata": {},
   "outputs": [
    {
     "name": "stdout",
     "output_type": "stream",
     "text": [
      "3\n"
     ]
    }
   ],
   "source": [
    "def sequence_element(i):\n",
    "    if i == 0:\n",
    "        return 1\n",
    "    elif i ==1:\n",
    "        return 3\n",
    "    else:\n",
    "        return ((sequence_element(i-1)**2-sequence_element(i-2)**2) /3)\n",
    "print (sequence_element(1))"
   ]
  },
  {
   "cell_type": "code",
   "execution_count": 55,
   "id": "790b4e0b",
   "metadata": {},
   "outputs": [
    {
     "name": "stdout",
     "output_type": "stream",
     "text": [
      "1.5377405400982804\n"
     ]
    }
   ],
   "source": [
    "def sequence_element(i):\n",
    "    if i == 0:\n",
    "        return 1\n",
    "    elif i ==1:\n",
    "        return 3\n",
    "    else:\n",
    "        return ((sequence_element(i-1)**2-sequence_element(i-2)**2) /3)\n",
    "print (sequence_element(5))"
   ]
  },
  {
   "cell_type": "code",
   "execution_count": 56,
   "id": "3e529407",
   "metadata": {},
   "outputs": [
    {
     "name": "stdout",
     "output_type": "stream",
     "text": [
      "-0.0068023727188227245\n"
     ]
    }
   ],
   "source": [
    "def sequence_element(i):\n",
    "    if i == 0:\n",
    "        return 1\n",
    "    elif i ==1:\n",
    "        return 3\n",
    "    else:\n",
    "        return ((sequence_element(i-1)**2-sequence_element(i-2)**2) /3)\n",
    "print (sequence_element(10))"
   ]
  },
  {
   "cell_type": "code",
   "execution_count": 57,
   "id": "543a6f57",
   "metadata": {},
   "outputs": [
    {
     "name": "stdout",
     "output_type": "stream",
     "text": [
      "-1.1202064090680112e-12\n"
     ]
    }
   ],
   "source": [
    "def sequence_element(i):\n",
    "    if i == 0:\n",
    "        return 1\n",
    "    elif i ==1:\n",
    "        return 3\n",
    "    else:\n",
    "        return ((sequence_element(i-1)**2-sequence_element(i-2)**2) /3)\n",
    "print (sequence_element(15))"
   ]
  },
  {
   "cell_type": "code",
   "execution_count": 58,
   "id": "5bb2057a",
   "metadata": {},
   "outputs": [
    {
     "name": "stdout",
     "output_type": "stream",
     "text": [
      "-8.141906198776711e-86\n"
     ]
    }
   ],
   "source": [
    "def sequence_element(i):\n",
    "    if i == 0:\n",
    "        return 1\n",
    "    elif i ==1:\n",
    "        return 3\n",
    "    else:\n",
    "        return ((sequence_element(i-1)**2-sequence_element(i-2)**2) /3)\n",
    "print (sequence_element(20))"
   ]
  },
  {
   "cell_type": "markdown",
   "id": "5a9a5bdf",
   "metadata": {},
   "source": [
    "## Exercise 4\n",
    "1. Write a function that takes in a list of tuples, each of which contains three parts: `name, month, day` corresponding to a person's birthday, for example `('Tony Stark', 'March', 14)`. Your function should output `True` if any two people have the same birthday, and `False` if no two people have the same birthday.\n",
    "1. Test your function on the set of people `[('Thor', 'August',10), ('Phil Coulson','July',8),('T\\'Challa','November',29),('Peter Parker','August',10), ('Tony Stark', 'March', 14)]`\n",
    "1. Create your own list of people with all distinct birthdays and test your function on your list."
   ]
  },
  {
   "cell_type": "code",
   "execution_count": 67,
   "id": "7850f367",
   "metadata": {},
   "outputs": [],
   "source": [
    "def same_birthday(birthdays):\n",
    "    dates = set()\n",
    "    for bday in birthdays:\n",
    "        date = bday[1] + ' ' + str(bday[2])\n",
    "        if date in dates:\n",
    "            return True\n",
    "        else:\n",
    "            dates.add(date)\n",
    "    return False"
   ]
  },
  {
   "cell_type": "code",
   "execution_count": 68,
   "id": "1387950a",
   "metadata": {},
   "outputs": [
    {
     "name": "stdout",
     "output_type": "stream",
     "text": [
      "True\n"
     ]
    }
   ],
   "source": [
    "birthdays= [('Thor', 'August',10), ('Phil Coulson','July',8), ('T\\'Challa','November',29), ('Peter Parker','August',10), ('Tony Stark', 'March', 14)]\n",
    "result = same_birthday(birthdays)\n",
    "print (result)"
   ]
  },
  {
   "cell_type": "code",
   "execution_count": 69,
   "id": "e6036378",
   "metadata": {},
   "outputs": [
    {
     "name": "stdout",
     "output_type": "stream",
     "text": [
      "False\n"
     ]
    }
   ],
   "source": [
    "birthdays = [('Insh', 'December', 25), ('Beza', 'December',26), ('Emnet', 'November', 28), ('Efrata', 'August', '15'), ('Beza', 'August', '11'), ('Yemi', 'March', '24')]\n",
    "result = same_birthday(birthdays)\n",
    "print (result)"
   ]
  },
  {
   "cell_type": "markdown",
   "id": "a3e7a45b",
   "metadata": {},
   "source": [
    "## Exercise 5\n",
    "For this exercise, you are *not* allowed to use the `.replace()` function or a similar single string command to complete the exercise. For example, you could make a list of the input string and then use list manipulations to complete the task.\n",
    "\n",
    "1. Write a function or script that takes in two strings, and returns the first string minus all instances of the second string. You may assume the second string is a single character.  For example, an input of \"Hello World\" where \"l\" is removed should result in \"Heo Word\".\n",
    "1. Test your function by specifying \"i\" to be removed from \"Supercalifragilisticexpialidocious\"\n",
    "\n",
    "Bonus: Modify your function to allow the second string to be more than one characer. Test your new function by specifying \"data\" to be removed from \"data 3401 introduction to python for data science\". (This should result in ' 3401 introduction to python for  science'\n",
    "\n",
    "**Example:** if your function is called `replace_string(str1,str2)`, then for part 2 you should print `replace_string('Supercalifragilisticexpialidocious','i')` and for the bonus you should print `replace_string('data 3401 introduction to python for data science','data')`"
   ]
  },
  {
   "cell_type": "code",
   "execution_count": 70,
   "id": "6bbb5673",
   "metadata": {},
   "outputs": [],
   "source": [
    "def remove_char(input_str, char):\n",
    "    output_str = ''\n",
    "    for i in input_str:\n",
    "        if i !=char:\n",
    "            output_str += i\n",
    "    return output_str"
   ]
  },
  {
   "cell_type": "code",
   "execution_count": 71,
   "id": "fbe320cb",
   "metadata": {},
   "outputs": [
    {
     "name": "stdout",
     "output_type": "stream",
     "text": [
      "Supercalfraglstcexpaldocous\n"
     ]
    }
   ],
   "source": [
    "input_str = 'Supercalifragilisticexpialidocious'\n",
    "char_to_remove = 'i'\n",
    "output_str = remove_char(input_str, char_to_remove)\n",
    "print(output_str)"
   ]
  },
  {
   "cell_type": "code",
   "execution_count": null,
   "id": "ec655f05",
   "metadata": {},
   "outputs": [],
   "source": []
  }
 ],
 "metadata": {
  "kernelspec": {
   "display_name": "Python 3 (ipykernel)",
   "language": "python",
   "name": "python3"
  },
  "language_info": {
   "codemirror_mode": {
    "name": "ipython",
    "version": 3
   },
   "file_extension": ".py",
   "mimetype": "text/x-python",
   "name": "python",
   "nbconvert_exporter": "python",
   "pygments_lexer": "ipython3",
   "version": "3.9.13"
  }
 },
 "nbformat": 4,
 "nbformat_minor": 5
}
