{
 "cells": [
  {
   "cell_type": "code",
   "execution_count": 4,
   "id": "b5e4c3c7",
   "metadata": {},
   "outputs": [],
   "source": [
    " # 1.The closest programing language to machine code is assembly. yes, it does need interpretation for the machine to understand. "
   ]
  },
  {
   "cell_type": "markdown",
   "id": "cd3c0df3",
   "metadata": {},
   "source": [
    "2. The oldest high level programing lanuage is Fortan. it was created in 1950s"
   ]
  },
  {
   "cell_type": "code",
   "execution_count": null,
   "id": "eb7c7832",
   "metadata": {},
   "outputs": [],
   "source": [
    "#3. second-generaton programing languages are low-level assembly. c, C++, and Fortran are thrid generation. Matlab,python, and r are fourth generation. "
   ]
  },
  {
   "cell_type": "code",
   "execution_count": null,
   "id": "91743411",
   "metadata": {},
   "outputs": [],
   "source": [
    "#4. C was created in the 1970s. C++ and Matlab was created in 1980s. python was created iin 1990s."
   ]
  },
  {
   "cell_type": "code",
   "execution_count": null,
   "id": "8443447d",
   "metadata": {},
   "outputs": [],
   "source": [
    "#5. ancestor programming language of C is B."
   ]
  },
  {
   "cell_type": "code",
   "execution_count": null,
   "id": "bbc4b32b",
   "metadata": {},
   "outputs": [],
   "source": [
    "#6. ancestor programing language of C++ is c and simula."
   ]
  },
  {
   "cell_type": "code",
   "execution_count": null,
   "id": "4c734156",
   "metadata": {},
   "outputs": [],
   "source": [
    "#7. programming language ancestor of Matlab is c and fortan. "
   ]
  },
  {
   "cell_type": "code",
   "execution_count": null,
   "id": "366662a1",
   "metadata": {},
   "outputs": [],
   "source": [
    "#8. three common types of errors are syntax error, semantic errors, logical error. syntax error is when wors are misspelled. semantic errors have to do with meaning/context. logical error is hard to to dtect because it does not effect the code right away."
   ]
  },
  {
   "cell_type": "code",
   "execution_count": null,
   "id": "20bd120b",
   "metadata": {},
   "outputs": [],
   "source": [
    "#9. syntax error is the easiest to correct because it is ussually mispelling or grammer issue."
   ]
  },
  {
   "cell_type": "code",
   "execution_count": null,
   "id": "ca02e3ac",
   "metadata": {},
   "outputs": [],
   "source": [
    "#10. the hardest code to fix is logic error because it is hard to find."
   ]
  },
  {
   "cell_type": "code",
   "execution_count": null,
   "id": "e85ff665",
   "metadata": {},
   "outputs": [],
   "source": [
    "#11. you are dealing with logic error."
   ]
  },
  {
   "cell_type": "code",
   "execution_count": null,
   "id": "5432b37e",
   "metadata": {},
   "outputs": [],
   "source": [
    "#12. answer for question 12:"
   ]
  },
  {
   "cell_type": "code",
   "execution_count": 5,
   "id": "10cedae2",
   "metadata": {},
   "outputs": [],
   "source": [
    "import numpy as np"
   ]
  },
  {
   "cell_type": "code",
   "execution_count": 9,
   "id": "5e451775",
   "metadata": {},
   "outputs": [],
   "source": [
    "ii32=np.iinfo(np.int32)"
   ]
  },
  {
   "cell_type": "code",
   "execution_count": 10,
   "id": "55b2f499",
   "metadata": {},
   "outputs": [
    {
     "data": {
      "text/plain": [
       "2147483647"
      ]
     },
     "execution_count": 10,
     "metadata": {},
     "output_type": "execute_result"
    }
   ],
   "source": [
    "ii32.max"
   ]
  },
  {
   "cell_type": "code",
   "execution_count": 14,
   "id": "3748dcfd",
   "metadata": {},
   "outputs": [
    {
     "data": {
      "text/plain": [
       "numpy.int16"
      ]
     },
     "execution_count": 14,
     "metadata": {},
     "output_type": "execute_result"
    }
   ],
   "source": [
    "import numpy as np\n",
    "np.int16"
   ]
  },
  {
   "cell_type": "code",
   "execution_count": 15,
   "id": "562f84d0",
   "metadata": {},
   "outputs": [
    {
     "data": {
      "text/plain": [
       "numpy.int16"
      ]
     },
     "execution_count": 15,
     "metadata": {},
     "output_type": "execute_result"
    }
   ],
   "source": [
    "np.int16"
   ]
  },
  {
   "cell_type": "code",
   "execution_count": null,
   "id": "1ceb7d7f",
   "metadata": {},
   "outputs": [],
   "source": [
    "#answer for number 13: the difference btween int.16 and int.64 is that how many bits storge is in there. 16 only as 16 bit of storge while 64 has only 64. \n"
   ]
  },
  {
   "cell_type": "code",
   "execution_count": 19,
   "id": "bc0ec380",
   "metadata": {},
   "outputs": [
    {
     "name": "stdout",
     "output_type": "stream",
     "text": [
      "Pyhton Is Great For String Manipulation.\n"
     ]
    }
   ],
   "source": [
    "#14 answer \n",
    "print (\"Pyhton Is Great For String Manipulation.\")"
   ]
  },
  {
   "cell_type": "raw",
   "id": "d9d22473",
   "metadata": {},
   "source": [
    "14 part 2 answer "
   ]
  },
  {
   "cell_type": "code",
   "execution_count": 23,
   "id": "c9a8d098",
   "metadata": {},
   "outputs": [
    {
     "name": "stdout",
     "output_type": "stream",
     "text": [
      ".noitalupinaM gnirtS roF taerG sI nohtyP\n"
     ]
    }
   ],
   "source": [
    "print (\"Python Is Great For String Manipulation.\" [::-1])"
   ]
  },
  {
   "cell_type": "code",
   "execution_count": 31,
   "id": "5cbaef2b",
   "metadata": {},
   "outputs": [
    {
     "name": "stdout",
     "output_type": "stream",
     "text": [
      ".otlpnMgit o ar Inhy\n"
     ]
    }
   ],
   "source": [
    "#15 answer \n",
    "print(\"Python Is Great For String Manipulation.\".replace('','')[::-2])"
   ]
  },
  {
   "cell_type": "code",
   "execution_count": 32,
   "id": "f30c9b79",
   "metadata": {},
   "outputs": [],
   "source": [
    "#answer for 16\n",
    "empty_dict={}"
   ]
  },
  {
   "cell_type": "code",
   "execution_count": null,
   "id": "22f8131e",
   "metadata": {},
   "outputs": [],
   "source": [
    "#answer for 17\n",
    "it startes again from the smalles variable cycle."
   ]
  },
  {
   "cell_type": "code",
   "execution_count": 33,
   "id": "e015da9e",
   "metadata": {},
   "outputs": [],
   "source": [
    "#answer for 18\n",
    "value='class for spring semester '\n"
   ]
  },
  {
   "cell_type": "code",
   "execution_count": 34,
   "id": "e1fa873e",
   "metadata": {},
   "outputs": [
    {
     "name": "stdout",
     "output_type": "stream",
     "text": [
      "{'Data3401': None, 'BIO': None, 'Data133': None, 'Data1301': None}\n"
     ]
    }
   ],
   "source": [
    "a= dict.fromkeys(['Data3401','BIO','Data133','Data1301'])\n",
    "print(a)"
   ]
  },
  {
   "cell_type": "code",
   "execution_count": null,
   "id": "141a2e6a",
   "metadata": {},
   "outputs": [],
   "source": []
  }
 ],
 "metadata": {
  "kernelspec": {
   "display_name": "Python 3 (ipykernel)",
   "language": "python",
   "name": "python3"
  },
  "language_info": {
   "codemirror_mode": {
    "name": "ipython",
    "version": 3
   },
   "file_extension": ".py",
   "mimetype": "text/x-python",
   "name": "python",
   "nbconvert_exporter": "python",
   "pygments_lexer": "ipython3",
   "version": "3.9.13"
  }
 },
 "nbformat": 4,
 "nbformat_minor": 5
}
