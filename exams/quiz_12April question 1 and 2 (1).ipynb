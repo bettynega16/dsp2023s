{
 "cells": [
  {
   "cell_type": "markdown",
   "id": "b1e672e3",
   "metadata": {},
   "source": [
    "# <center>Lab 9 &ndash; DATA 3401 (Fall 2022)</center>\n",
    "\n",
    "## Lab Date: 11/11\n",
    "## Due Date 1/18 (before the beginning of lab)\n",
    "\n",
    "## Lab Description\n",
    "The purpose of this lab is for you to become more familiar with reading and writing .txt files"
   ]
  },
  {
   "cell_type": "markdown",
   "id": "266ca2b4",
   "metadata": {},
   "source": [
    "## Exercise 1\n",
    "\n",
    "1. Download the file `Shakespeare.txt` from this folder of the course repo into your Lab9 folder. \n",
    "1. Open the file in read mode, and print the file one line at a time in your notebook (get rid of any extra line breaks if they appear)\n",
    "1. Write a function that takes a single character string input argument that counts the number of times that character appears in the text file (that is, `count_char(char)` should return the number of times `char` appears in the file, where `char` could be `a`, `b`, `c`, ...)\n",
    "1. Using your function from the previous part, count the number of times a, e, ', and '&nbsp;' (the space character) appear in the document. Display the counts nicely with print statements. "
   ]
  },
  {
   "cell_type": "code",
   "execution_count": 3,
   "id": "b3cad8fb",
   "metadata": {},
   "outputs": [
    {
     "name": "stdout",
     "output_type": "stream",
     "text": [
      "So is it not with me as with that Muse\n",
      "Stirr'd by a painted beauty to his verse,\n",
      "Who heaven itself for ornament doth use\n",
      "And every fair with his fair doth rehearse\n",
      "Making a couplement of proud compare,\n",
      "With sun and moon, with earth and sea's rich gems,\n",
      "With April's first-born flowers, and all things rare\n",
      "That heaven's air in this huge rondure hems.\n",
      "O' let me, true in love, but truly write,\n",
      "And then believe me, my love is as fair\n",
      "As any mother's child, though not so bright\n",
      "As those gold candles fix'd in heaven's air:\n",
      "Let them say more than like of hearsay well;\n",
      "I will not praise that purpose not to sell.\n"
     ]
    }
   ],
   "source": [
    "with open('shakespeare.txt', 'r') as f:\n",
    "    content = f.read()\n",
    "print(content)"
   ]
  },
  {
   "cell_type": "code",
   "execution_count": 4,
   "id": "fac948c8",
   "metadata": {},
   "outputs": [],
   "source": [
    "def count_char(char):\n",
    "    count = 0\n",
    "    with open('Shakespeare.txt', 'r') as f:\n",
    "        for line in f:\n",
    "            count += line.count(char)\n",
    "    return count"
   ]
  },
  {
   "cell_type": "code",
   "execution_count": 5,
   "id": "b3f326b1",
   "metadata": {},
   "outputs": [
    {
     "name": "stdout",
     "output_type": "stream",
     "text": [
      "Count of 'a': 35\n",
      "Count of 'e': 54\n",
      "Count of ''': 8\n",
      "Count of ' ': 103\n"
     ]
    }
   ],
   "source": [
    "# Count the number of times a, e, ', and ' ' (space) appear in the file\n",
    "counts = {'a': 0, 'e': 0, \"'\": 0, ' ': 0}\n",
    "for char in counts:\n",
    "    counts[char] = count_char(char)\n",
    "print(\"Count of 'a':\", counts['a'])\n",
    "print(\"Count of 'e':\", counts['e'])\n",
    "print(\"Count of ''':\", counts[\"'\"])\n",
    "print(\"Count of ' ':\", counts[' '])"
   ]
  },
  {
   "cell_type": "markdown",
   "id": "c57e3b5d",
   "metadata": {},
   "source": [
    "## Exercise 2\n",
    "\n",
    "1. Write a function that takes in three arguments `string`, `char`, `replacement`, that replaces every instance of `char` in `string` with `replacement`.  For example, `replace('Hello','l','!')` would return `He!!o`.  Note, you may use your function from the midterm as a starting point.\n",
    "1. Capture the text from `Shakespeare.txt`, and replace all of the character 'a' with '#'\n",
    "1. Write the new text to a new file called `Shakespeare_modified.txt`"
   ]
  },
  {
   "cell_type": "code",
   "execution_count": 6,
   "id": "7868f952",
   "metadata": {},
   "outputs": [
    {
     "name": "stdout",
     "output_type": "stream",
     "text": [
      "So is it not with me #s with th#t Muse\n",
      "Stirr'd by # p#inted be#uty to his verse,\n",
      "Who he#ven itself for orn#ment doth use\n",
      "And every f#ir with his f#ir doth rehe#rse\n",
      "M#king # couplement of proud comp#re,\n",
      "With sun #nd moon, with e#rth #nd se#'s rich gems,\n",
      "With April's first-born flowers, #nd #ll things r#re\n",
      "Th#t he#ven's #ir in this huge rondure hems.\n",
      "O' let me, true in love, but truly write,\n",
      "And then believe me, my love is #s f#ir\n",
      "As #ny mother's child, though not so bright\n",
      "As those gold c#ndles fix'd in he#ven's #ir:\n",
      "Let them s#y more th#n like of he#rs#y well;\n",
      "I will not pr#ise th#t purpose not to sell.\n"
     ]
    }
   ],
   "source": [
    "\n",
    "with open('shakespeare.txt', 'r') as f:\n",
    "    content = f.read()\n",
    "\n",
    "\n",
    "modified_content = content.replace('a', '#')\n",
    "\n",
    "\n",
    "with open('shakespeare_modified.txt', 'w') as f:\n",
    "    f.write(modified_content)\n",
    "    \n",
    "\n",
    "with open('shakespeare_modified.txt', 'r') as f:\n",
    "    modified_text = f.read()\n",
    "\n",
    "print(modified_text)\n",
    "\n"
   ]
  },
  {
   "cell_type": "markdown",
   "id": "33068a69",
   "metadata": {},
   "source": [
    "## Exercise 3\n",
    "\n",
    "1. Write a function that takes an integer input argument `n`, opens the `Shakespeare.txt` file, and creates a list of all words in the file whose length is less than or equal to `n`.\n",
    "1. Test your function with `n=2, 4, 6`. For each `n`, you should print out the full list."
   ]
  },
  {
   "cell_type": "code",
   "execution_count": null,
   "id": "ce8f33aa",
   "metadata": {},
   "outputs": [],
   "source": [
    "# Write your solutions here\n"
   ]
  }
 ],
 "metadata": {
  "kernelspec": {
   "display_name": "Python 3 (ipykernel)",
   "language": "python",
   "name": "python3"
  },
  "language_info": {
   "codemirror_mode": {
    "name": "ipython",
    "version": 3
   },
   "file_extension": ".py",
   "mimetype": "text/x-python",
   "name": "python",
   "nbconvert_exporter": "python",
   "pygments_lexer": "ipython3",
   "version": "3.9.13"
  }
 },
 "nbformat": 4,
 "nbformat_minor": 5
}
