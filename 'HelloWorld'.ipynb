{
 "cells": [
  {
   "cell_type": "markdown",
   "metadata": {},
   "source": [
    "# <center>Lab 2 &ndash; DATA 3401 (Spring 2023)</center>\n",
    "\n",
    "## Lab Date: 2/10\n",
    "## Due Date 2/17 (before the beginning of Lab)\n",
    "\n",
    "## Lab Description\n",
    "The purpose of this lab is for you to\n",
    "- Install Python\n",
    "- Learn to create Jupyter notebooks\n",
    "- Make your first Jupyter notebook with some basic programs"
   ]
  },
  {
   "cell_type": "markdown",
   "metadata": {},
   "source": [
    "## Task 1 &ndash; Installing Python and Anaconda\n",
    "[python](https://www.python.org/downloads/)\n",
    "[anaconda](https://www.anaconda.com/products/distribution)"
   ]
  },
  {
   "cell_type": "markdown",
   "metadata": {},
   "source": [
    "## Task 2 &ndash; Creating your first Jupyter notebook (Ubuntu)\n",
    "1. Open an Ubuntu terminal and navigate to your desired folder (e.g., 'cd /mnt/c/users/username/DATA3401')\n",
    "    - For this course, your folder should most likely be your local GitHub repo\n",
    "1. Once in the folder, type the following command: `jupyter notebook --no-browser`\n",
    "1. You should see a set of two urls. Select one of them using your mouse$^\\ast$; copy the url with `ctrl+shift+c`; paste the url into a web browser (`ctrl+v`)\n",
    "    - $^\\ast$If this does not work for you, right click on the top bar of the terminal and go to Properties. Then make sure your options match these\n",
    "    \n",
    "    <img src=\"TerminalProperties.png\" alt=\"Image Missing\" width=\"300\"/>\n",
    "    \n",
    "1. You should now see a file system open in your browser\n",
    "1. Navigate to folder that is linked to your GitHub repo for this course (if you didn't already do this in step 1)\n",
    "1. Once inside the folder, click \"New\" and select \"Python 3\" under the Notebook heading\n",
    "1. You should now have a jupyter notebook open in a new tab of your browser"
   ]
  },
  {
   "cell_type": "markdown",
   "metadata": {},
   "source": [
    "## Task 2 &ndash; Creating your first Jupyter notebook (Mac)\n",
    "1. Open a commant terminal and navigate to your desired folder (e.g., 'cd /mnt/c/users/username/DATA3401')\n",
    "    - For this course, your folder should most likely be your local GitHub repo\n",
    "1. In your command terminal, type `jupyter notebook`\n",
    "1. This *should* open a browser window with the jupyter file system in it\n",
    "1. You should now see a file system open in your browser\n",
    "1. Navigate to folder that is linked to your GitHub repo for this course (if you didn't already do this in step 1)\n",
    "1. Once inside the folder, click \"New\" and select \"Python 3\" under the Notebook heading\n",
    "1. You should now have a jupyter notebook open in a new tab of your browser"
   ]
  },
  {
   "cell_type": "markdown",
   "metadata": {},
   "source": [
    "## Exercise 1 &ndash; Creating your first simple program\n",
    "1. In the jupyter notebook that you just made, type the simple command `print('Hello World')` and run the cell by pressing `shift+enter`\n",
    "1. Title your notebook \"HelloWorld\", and add it to your GitHub repo in your Lab2 folder.\n",
    "1. Push all changes to your repo"
   ]
  },
  {
   "cell_type": "markdown",
   "metadata": {},
   "source": [
    "## Exercise 2 &ndash; Basic Python programming\n",
    "1. Create a new jupyter notebook in the same manner as before, and title it Lab2\n",
    "1. Copy and paste the cells below into your new notebook and add your solutions to each problem\n",
    "1. Once finished, and before the deadline, push your notebook with the solutions to the folder for Lab 2 in your GitHub repo\n",
    "    - Reminder: the TA and I will look at the last version of your repo committed to GitHub before the deadline"
   ]
  },
  {
   "cell_type": "markdown",
   "metadata": {},
   "source": [
    "### Problem 1: \n",
    "Write a script that defines two strings: your first name and last name, and prints them in reverse order with a space between them."
   ]
  },
  {
   "cell_type": "code",
   "execution_count": 47,
   "metadata": {},
   "outputs": [
    {
     "name": "stdout",
     "output_type": "stream",
     "text": [
      "ageN ytteB\n"
     ]
    }
   ],
   "source": [
    "print ('Betty Nega'[::-1])\n"
   ]
  },
  {
   "cell_type": "markdown",
   "metadata": {},
   "source": [
    "### Problem 2: \n",
    "Write a print command that displays the following (replace all my information with yours)\n",
    "\n",
    "My name is Keaton Hamm\\\n",
    "I am a Math major\\\n",
    "------------------------\\\n",
    "This is my Python string"
   ]
  },
  {
   "cell_type": "code",
   "execution_count": 59,
   "metadata": {},
   "outputs": [
    {
     "name": "stdout",
     "output_type": "stream",
     "text": [
      "My name is Betty Nega \n",
      "I am a data science major\n",
      "\n",
      "This is my python string\n"
     ]
    }
   ],
   "source": [
    "print('My name is Betty Nega','\\n' 'I am a data science major''\\n')\n",
    "print('This is my python string')\n",
    "\n"
   ]
  },
  {
   "cell_type": "markdown",
   "metadata": {},
   "source": [
    "### Problem 3:\n",
    "Think about what the results would be for the following expressions, and then type them into the terminal to verify your answers. Briefly explain the results for each one."
   ]
  },
  {
   "cell_type": "code",
   "execution_count": 22,
   "metadata": {
    "scrolled": true
   },
   "outputs": [
    {
     "data": {
      "text/plain": [
       "8"
      ]
     },
     "execution_count": 22,
     "metadata": {},
     "output_type": "execute_result"
    }
   ],
   "source": [
    "1/2 #eplanation here\n",
    "int(1/2) #explanation here\n",
    "int(9/10) #explanation here\n",
    "-5**2 # returns X because ...\n",
    "(-5) ** 2  #explanation here\n",
    "10-6/2  #explanation here\n",
    "5*4/2*3 #explanation here\n",
    "5*4/2**2*3 #explanation here\n",
    "2^10 #explanation here (may require some searching)"
   ]
  },
  {
   "cell_type": "code",
   "execution_count": 23,
   "metadata": {},
   "outputs": [
    {
     "data": {
      "text/plain": [
       "0.5"
      ]
     },
     "execution_count": 23,
     "metadata": {},
     "output_type": "execute_result"
    }
   ],
   "source": [
    "1/2 #this divides 1 by 2."
   ]
  },
  {
   "cell_type": "code",
   "execution_count": 25,
   "metadata": {},
   "outputs": [
    {
     "data": {
      "text/plain": [
       "0"
      ]
     },
     "execution_count": 25,
     "metadata": {},
     "output_type": "execute_result"
    }
   ],
   "source": [
    "int(1/2) #this only gives you the answer for the intger. so there is no decimal."
   ]
  },
  {
   "cell_type": "code",
   "execution_count": 26,
   "metadata": {},
   "outputs": [
    {
     "data": {
      "text/plain": [
       "0"
      ]
     },
     "execution_count": 26,
     "metadata": {},
     "output_type": "execute_result"
    }
   ],
   "source": [
    "int(9/10)#does not include exact answer with decimal."
   ]
  },
  {
   "cell_type": "code",
   "execution_count": 27,
   "metadata": {},
   "outputs": [
    {
     "data": {
      "text/plain": [
       "-25"
      ]
     },
     "execution_count": 27,
     "metadata": {},
     "output_type": "execute_result"
    }
   ],
   "source": [
    "-5**2#it returns the negative sign because there is no parenthesis. "
   ]
  },
  {
   "cell_type": "code",
   "execution_count": 28,
   "metadata": {},
   "outputs": [
    {
     "data": {
      "text/plain": [
       "25"
      ]
     },
     "execution_count": 28,
     "metadata": {},
     "output_type": "execute_result"
    }
   ],
   "source": [
    "(-5)**2#it gives the answer for  squared. this is exponentiation."
   ]
  },
  {
   "cell_type": "code",
   "execution_count": 29,
   "metadata": {},
   "outputs": [
    {
     "data": {
      "text/plain": [
       "7.0"
      ]
     },
     "execution_count": 29,
     "metadata": {},
     "output_type": "execute_result"
    }
   ],
   "source": [
    "10-6/2 #performs the math given according to pemdas. this is also considered a float"
   ]
  },
  {
   "cell_type": "code",
   "execution_count": 30,
   "metadata": {},
   "outputs": [
    {
     "data": {
      "text/plain": [
       "30.0"
      ]
     },
     "execution_count": 30,
     "metadata": {},
     "output_type": "execute_result"
    }
   ],
   "source": [
    "5*4/2*3#it performs the math operation given. this is also a float."
   ]
  },
  {
   "cell_type": "code",
   "execution_count": 31,
   "metadata": {},
   "outputs": [
    {
     "data": {
      "text/plain": [
       "15.0"
      ]
     },
     "execution_count": 31,
     "metadata": {},
     "output_type": "execute_result"
    }
   ],
   "source": [
    "5*4/2**2*3 #performs the math problem given. this is also a float.** represents exponents and * represents multiplication."
   ]
  },
  {
   "cell_type": "code",
   "execution_count": 33,
   "metadata": {},
   "outputs": [
    {
     "data": {
      "text/plain": [
       "8"
      ]
     },
     "execution_count": 33,
     "metadata": {},
     "output_type": "execute_result"
    }
   ],
   "source": [
    "2^10# ^ stands for bitwise XOR operator. "
   ]
  },
  {
   "cell_type": "markdown",
   "metadata": {},
   "source": [
    "### Problem 4:\n",
    "Write code that will print your name 10 times but without you writing your name out 10 times."
   ]
  },
  {
   "cell_type": "code",
   "execution_count": 64,
   "metadata": {},
   "outputs": [
    {
     "name": "stdout",
     "output_type": "stream",
     "text": [
      "Betty NegaBetty NegaBetty NegaBetty NegaBetty NegaBetty NegaBetty NegaBetty NegaBetty NegaBetty Nega \n",
      "\n"
     ]
    }
   ],
   "source": [
    "print ( 10 * 'Betty Nega','\\n' )"
   ]
  },
  {
   "cell_type": "code",
   "execution_count": 1,
   "metadata": {},
   "outputs": [],
   "source": [
    "# Your solution here\n"
   ]
  },
  {
   "cell_type": "markdown",
   "metadata": {},
   "source": [
    "Problem 5:\n",
    "\n",
    "Define the list `x = [1,2,3,4,'a','b','c','d']`\n",
    "1. Use list indexing commands to print every other element of the list starting with 2\n",
    "1. Use list indexing commands to print every third element of the list starting at 'd' and going backward\n",
    "1. Use list indexing commands to print elements 4 through 'c'"
   ]
  },
  {
   "cell_type": "code",
   "execution_count": 67,
   "metadata": {},
   "outputs": [
    {
     "ename": "SyntaxError",
     "evalue": "invalid syntax (2807025761.py, line 2)",
     "output_type": "error",
     "traceback": [
      "\u001b[1;36m  File \u001b[1;32m\"C:\\Users\\betty\\AppData\\Local\\Temp\\ipykernel_7312\\2807025761.py\"\u001b[1;36m, line \u001b[1;32m2\u001b[0m\n\u001b[1;33m    'x = [1,2,3,4,'a','b','c','d']''\u001b[0m\n\u001b[1;37m                   ^\u001b[0m\n\u001b[1;31mSyntaxError\u001b[0m\u001b[1;31m:\u001b[0m invalid syntax\n"
     ]
    }
   ],
   "source": [
    "# Your solution to part 1 here\n",
    "'x = [1,2,3,4,'a','b','c','d']''\n",
    "\n"
   ]
  },
  {
   "cell_type": "code",
   "execution_count": 77,
   "metadata": {},
   "outputs": [
    {
     "data": {
      "text/plain": [
       "['d', 'b', 4, 2]"
      ]
     },
     "execution_count": 77,
     "metadata": {},
     "output_type": "execute_result"
    }
   ],
   "source": [
    "# Your solution to part 2 here\n",
    "mylist=[1,2,3,4,'a','b','c','d']\n",
    "mylist[::-2]"
   ]
  },
  {
   "cell_type": "code",
   "execution_count": 82,
   "metadata": {},
   "outputs": [
    {
     "data": {
      "text/plain": [
       "['d', 'a', 2]"
      ]
     },
     "execution_count": 82,
     "metadata": {},
     "output_type": "execute_result"
    }
   ],
   "source": [
    "# Your solution to part 3 here\n",
    "mylist[::-3]"
   ]
  },
  {
   "cell_type": "code",
   "execution_count": 99,
   "metadata": {},
   "outputs": [
    {
     "data": {
      "text/plain": [
       "[4, 'a', 'b', 'c']"
      ]
     },
     "execution_count": 99,
     "metadata": {},
     "output_type": "execute_result"
    }
   ],
   "source": [
    "mylist[3:7]"
   ]
  },
  {
   "cell_type": "code",
   "execution_count": null,
   "metadata": {},
   "outputs": [],
   "source": []
  }
 ],
 "metadata": {
  "kernelspec": {
   "display_name": "Python 3 (ipykernel)",
   "language": "python",
   "name": "python3"
  },
  "language_info": {
   "codemirror_mode": {
    "name": "ipython",
    "version": 3
   },
   "file_extension": ".py",
   "mimetype": "text/x-python",
   "name": "python",
   "nbconvert_exporter": "python",
   "pygments_lexer": "ipython3",
   "version": "3.9.13"
  }
 },
 "nbformat": 4,
 "nbformat_minor": 2
}
