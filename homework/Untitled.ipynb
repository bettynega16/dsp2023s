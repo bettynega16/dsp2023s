{
 "cells": [
  {
   "cell_type": "markdown",
   "id": "70ad75a4",
   "metadata": {},
   "source": [
    "7+10"
   ]
  },
  {
   "cell_type": "code",
   "execution_count": 2,
   "id": "250e07e4",
   "metadata": {},
   "outputs": [
    {
     "name": "stdout",
     "output_type": "stream",
     "text": [
      "hello world\n"
     ]
    }
   ],
   "source": [
    "print ('hello world')"
   ]
  },
  {
   "cell_type": "code",
   "execution_count": 3,
   "id": "501a0950",
   "metadata": {},
   "outputs": [
    {
     "name": "stderr",
     "output_type": "stream",
     "text": [
      "<>:1: SyntaxWarning: \"is\" with a literal. Did you mean \"==\"?\n",
      "<>:1: SyntaxWarning: \"is\" with a literal. Did you mean \"==\"?\n",
      "C:\\Users\\betty\\AppData\\Local\\Temp\\ipykernel_17976\\345970468.py:1: SyntaxWarning: \"is\" with a literal. Did you mean \"==\"?\n",
      "  'betty' is 'betty'\n"
     ]
    },
    {
     "data": {
      "text/plain": [
       "True"
      ]
     },
     "execution_count": 3,
     "metadata": {},
     "output_type": "execute_result"
    }
   ],
   "source": [
    "'betty' is 'betty'"
   ]
  },
  {
   "cell_type": "code",
   "execution_count": null,
   "id": "ceae8c75",
   "metadata": {},
   "outputs": [],
   "source": []
  }
 ],
 "metadata": {
  "kernelspec": {
   "display_name": "Python 3 (ipykernel)",
   "language": "python",
   "name": "python3"
  },
  "language_info": {
   "codemirror_mode": {
    "name": "ipython",
    "version": 3
   },
   "file_extension": ".py",
   "mimetype": "text/x-python",
   "name": "python",
   "nbconvert_exporter": "python",
   "pygments_lexer": "ipython3",
   "version": "3.9.13"
  }
 },
 "nbformat": 4,
 "nbformat_minor": 5
}
