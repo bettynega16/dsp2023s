{
 "cells": [
  {
   "cell_type": "code",
   "execution_count": 1,
   "id": "d78da537",
   "metadata": {},
   "outputs": [
    {
     "name": "stdout",
     "output_type": "stream",
     "text": [
      "0.17603266338214976\n"
     ]
    }
   ],
   "source": [
    "import math\n",
    "\n",
    "def gaussian(mu, sigma, x):\n",
    "    return 1 / (sigma * math.sqrt(2 * math.pi)) * math.exp(-0.5 * ((x - mu) / sigma)**2)\n",
    "\n",
    "mu = 0\n",
    "sigma = 2\n",
    "x = 1\n",
    "\n",
    "result = gaussian(mu, sigma, x)\n",
    "print(result)"
   ]
  },
  {
   "cell_type": "code",
   "execution_count": 13,
   "id": "a1d05d47",
   "metadata": {
    "scrolled": true
   },
   "outputs": [
    {
     "name": "stdout",
     "output_type": "stream",
     "text": [
      "True\n"
     ]
    }
   ],
   "source": [
    "def is_even(n): return True if n % 2 == 0 else False\n",
    "print(is_even(4))\n"
   ]
  },
  {
   "cell_type": "code",
   "execution_count": 20,
   "id": "f7a8c8da",
   "metadata": {},
   "outputs": [
    {
     "name": "stdout",
     "output_type": "stream",
     "text": [
      "291 µs ± 23.3 µs per loop (mean ± std. dev. of 7 runs, 1000 loops each)\n"
     ]
    }
   ],
   "source": [
    "def isPrime_for(n):\n",
    "    if n <= 1:\n",
    "        return False\n",
    "    for i in range(2, int(n**(0.5))+1):\n",
    "        if n % i == 0:\n",
    "            return False\n",
    "    return True\n",
    "\n",
    "def get_prime_for(n):\n",
    "    primes = []\n",
    "    for i in range(2, n+1):\n",
    "        if isPrime_for(i):\n",
    "            primes.append(i)\n",
    "    return primes\n",
    "%timeit get_prime_for(500)\n"
   ]
  },
  {
   "cell_type": "code",
   "execution_count": 21,
   "id": "ba223b57",
   "metadata": {},
   "outputs": [
    {
     "name": "stdout",
     "output_type": "stream",
     "text": [
      "443 ns ± 17.7 ns per loop (mean ± std. dev. of 7 runs, 1000000 loops each)\n"
     ]
    }
   ],
   "source": [
    "%timeit isPrime_for(500)"
   ]
  },
  {
   "cell_type": "code",
   "execution_count": null,
   "id": "69277251",
   "metadata": {},
   "outputs": [],
   "source": []
  }
 ],
 "metadata": {
  "kernelspec": {
   "display_name": "Python 3 (ipykernel)",
   "language": "python",
   "name": "python3"
  },
  "language_info": {
   "codemirror_mode": {
    "name": "ipython",
    "version": 3
   },
   "file_extension": ".py",
   "mimetype": "text/x-python",
   "name": "python",
   "nbconvert_exporter": "python",
   "pygments_lexer": "ipython3",
   "version": "3.9.13"
  }
 },
 "nbformat": 4,
 "nbformat_minor": 5
}
