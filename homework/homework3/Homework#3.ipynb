{
 "cells": [
  {
   "cell_type": "raw",
   "id": "58c71af8",
   "metadata": {},
   "source": [
    "Branches \n",
    "1. single-line python input and string manipulation (only part B)"
   ]
  },
  {
   "cell_type": "code",
   "execution_count": 6,
   "id": "b5de3bda",
   "metadata": {},
   "outputs": [],
   "source": [
    "def dummy(i):\n",
    "    j = 0 if i == 0 else 1 if i == 1 else 2 if i == 2 else 'j is not in [0,1,2]'\n",
    "    return j"
   ]
  },
  {
   "cell_type": "markdown",
   "id": "349274d4",
   "metadata": {},
   "source": [
    "Looping"
   ]
  },
  {
   "cell_type": "code",
   "execution_count": 11,
   "id": "9ba74201",
   "metadata": {},
   "outputs": [
    {
     "name": "stdout",
     "output_type": "stream",
     "text": [
      "-20.00 degrees Celsius = -4.00 degrees Fahrenheit\n",
      "-15.00 degrees Celsius = 5.00 degrees Fahrenheit\n",
      "-10.00 degrees Celsius = 14.00 degrees Fahrenheit\n",
      "-5.00 degrees Celsius = 23.00 degrees Fahrenheit\n",
      "0.00 degrees Celsius = 32.00 degrees Fahrenheit\n",
      "5.00 degrees Celsius = 41.00 degrees Fahrenheit\n",
      "10.00 degrees Celsius = 50.00 degrees Fahrenheit\n",
      "15.00 degrees Celsius = 59.00 degrees Fahrenheit\n",
      "20.00 degrees Celsius = 68.00 degrees Fahrenheit\n",
      "25.00 degrees Celsius = 77.00 degrees Fahrenheit\n",
      "30.00 degrees Celsius = 86.00 degrees Fahrenheit\n",
      "35.00 degrees Celsius = 95.00 degrees Fahrenheit\n",
      "40.00 degrees Celsius = 104.00 degrees Fahrenheit\n"
     ]
    }
   ],
   "source": [
    "#1\n",
    "Cdegrees = [-20, -15, -10, -5, 0, 5, 10, 15, 20, 25, 30, 35, 40]\n",
    "Fdegrees = [-20, -15, -5, 0, 10, 15, 30, 35, 40]\n",
    "\n",
    "for i in range(len(Cdegrees)):\n",
    "    F = (9/5) * Cdegrees[i] + 32\n",
    "    print(\"{:.2f} degrees Celsius = {:.2f} degrees Fahrenheit\".format(Cdegrees[i], F))\n",
    "\n"
   ]
  },
  {
   "cell_type": "code",
   "execution_count": 13,
   "id": "2fe6ec55",
   "metadata": {},
   "outputs": [],
   "source": [
    "#A\n",
    "def convert_temp(temps, direction):\n",
    "    \"\"\"\n",
    "    Converts the input temperature vector from Fahrenheit to Celsius if the\n",
    "    input string is 'F2C', otherwise converts the input temperature vector from\n",
    "    Celsius to Fahrenheit if the input string is 'C2F', otherwise outputs an\n",
    "    error message and aborts the program.\n",
    "    \n",
    "    Args:\n",
    "        temps (list): Input temperature vector\n",
    "        direction (str): Conversion direction ('F2C' or 'C2F')\n",
    "    \n",
    "    Returns:\n",
    "        list: Converted temperature vector\n",
    "    \"\"\"\n",
    "    if direction == 'F2C':\n",
    "        converted_temps = [(t - 32) * 5/9 for t in temps]\n",
    "        return converted_temps\n",
    "    elif direction == 'C2F':\n",
    "        converted_temps = [(t * 9/5) + 32 for t in temps]\n",
    "        return converted_temps\n",
    "    else:\n",
    "        print(\"Invalid direction. Please specify either 'F2C' or 'C2F'.\")\n",
    "        return \n"
   ]
  },
  {
   "cell_type": "code",
   "execution_count": 14,
   "id": "7e9a7b15",
   "metadata": {},
   "outputs": [
    {
     "name": "stdout",
     "output_type": "stream",
     "text": [
      "Invalid direction. Please specify either 'F2C' or 'C2F'.\n"
     ]
    }
   ],
   "source": [
    "print(\"Invalid direction. Please specify either 'F2C' or 'C2F'.\")"
   ]
  },
  {
   "cell_type": "code",
   "execution_count": 15,
   "id": "327cee6c",
   "metadata": {},
   "outputs": [],
   "source": [
    "#Anumber2\n",
    "def convertTempWhile(temps, direction):\n",
    "    # Initialize converted_temps list to store the converted temperatures\n",
    "    converted_temps = []\n",
    "\n",
    "    # Loop over each temperature in the input vector using a while loop\n",
    "    i = 0\n",
    "    while i < len(temps):\n",
    "        # Convert the temperature based on the input direction\n",
    "        if direction == 'C2F':\n",
    "            converted_temp = (temps[i] * 9/5) + 32\n",
    "        elif direction == 'F2C':\n",
    "            converted_temp = (temps[i] - 32) * 5/9\n",
    "        else:\n",
    "            # If the direction is not valid, print an error message and return None\n",
    "            print(\"Error: Invalid direction specified\")\n",
    "            return None\n",
    "        \n",
    "        # Add the converted temperature to the list\n",
    "        converted_temps.append(converted_temp)\n",
    "        \n",
    "        # Increment the loop counter\n",
    "        i += 1\n",
    "\n",
    "    # Return the list of converted temperatures\n",
    "    return converted_temps\n"
   ]
  },
  {
   "cell_type": "code",
   "execution_count": 16,
   "id": "0154583a",
   "metadata": {},
   "outputs": [
    {
     "name": "stdout",
     "output_type": "stream",
     "text": [
      "-20.00 degrees Celsius = -4.00 degrees Fahrenheit\n",
      "-15.00 degrees Celsius = 5.00 degrees Fahrenheit\n",
      "-10.00 degrees Celsius = 14.00 degrees Fahrenheit\n",
      "-5.00 degrees Celsius = 23.00 degrees Fahrenheit\n",
      "0.00 degrees Celsius = 32.00 degrees Fahrenheit\n",
      "5.00 degrees Celsius = 41.00 degrees Fahrenheit\n",
      "10.00 degrees Celsius = 50.00 degrees Fahrenheit\n",
      "15.00 degrees Celsius = 59.00 degrees Fahrenheit\n",
      "20.00 degrees Celsius = 68.00 degrees Fahrenheit\n",
      "25.00 degrees Celsius = 77.00 degrees Fahrenheit\n",
      "30.00 degrees Celsius = 86.00 degrees Fahrenheit\n",
      "35.00 degrees Celsius = 95.00 degrees Fahrenheit\n",
      "40.00 degrees Celsius = 104.00 degrees Fahrenheit\n"
     ]
    }
   ],
   "source": [
    "temps = [-20, -15, -10, -5, 0, 5, 10, 15, 20, 25, 30, 35, 40]\n",
    "direction = 'C2F'\n",
    "converted_temps = convertTempWhile(temps, direction)\n",
    "if converted_temps is not None:\n",
    "    for i in range(len(temps)):\n",
    "        print(\"{:.2f} degrees {} = {:.2f} degrees {}\".format(\n",
    "            temps[i],\n",
    "            'Celsius' if direction == 'C2F' else 'Fahrenheit',\n",
    "            converted_temps[i],\n",
    "            'Fahrenheit' if direction == 'C2F' else 'Celsius'))\n"
   ]
  },
  {
   "cell_type": "code",
   "execution_count": 19,
   "id": "bacfafaf",
   "metadata": {},
   "outputs": [],
   "source": [
    "#B\n",
    "def convertTempFor(temps, direction):\n",
    "    # Initialize converted_temps list to store the converted temperatures\n",
    "    converted_temps = []\n",
    "    \n",
    "    # Loop over each temperature in the input vector using a for loop\n",
    "    for temp in temps:\n",
    "        # Convert the temperature based on the input direction\n",
    "        if direction == 'C2F':\n",
    "            converted_temp = (temp * 9/5) + 32\n",
    "        elif direction == 'F2C':\n",
    "            converted_temp = (temp - 32) * 5/9\n",
    "        else:\n",
    "            # If the direction is not valid, print an error message and return None\n",
    "            print(\"Error: Invalid direction specified\")\n",
    "            return None\n",
    "        \n",
    "        # Add the converted temperature to the list\n",
    "        converted_temps.append(converted_temp)\n",
    "\n",
    "    # Return the list of converted temperatures\n",
    "    return converted_temps\n"
   ]
  },
  {
   "cell_type": "code",
   "execution_count": 20,
   "id": "fb9d0ec0",
   "metadata": {},
   "outputs": [
    {
     "name": "stdout",
     "output_type": "stream",
     "text": [
      "-20.00 degrees Celsius = -4.00 degrees Fahrenheit\n",
      "-15.00 degrees Celsius = 5.00 degrees Fahrenheit\n",
      "-10.00 degrees Celsius = 14.00 degrees Fahrenheit\n",
      "-5.00 degrees Celsius = 23.00 degrees Fahrenheit\n",
      "0.00 degrees Celsius = 32.00 degrees Fahrenheit\n",
      "5.00 degrees Celsius = 41.00 degrees Fahrenheit\n",
      "10.00 degrees Celsius = 50.00 degrees Fahrenheit\n",
      "15.00 degrees Celsius = 59.00 degrees Fahrenheit\n",
      "20.00 degrees Celsius = 68.00 degrees Fahrenheit\n",
      "25.00 degrees Celsius = 77.00 degrees Fahrenheit\n",
      "30.00 degrees Celsius = 86.00 degrees Fahrenheit\n",
      "35.00 degrees Celsius = 95.00 degrees Fahrenheit\n",
      "40.00 degrees Celsius = 104.00 degrees Fahrenheit\n"
     ]
    }
   ],
   "source": [
    "temps = [-20, -15, -10, -5, 0, 5, 10, 15, 20, 25, 30, 35, 40]\n",
    "direction = 'C2F'\n",
    "converted_temps = convertTempFor(temps, direction)\n",
    "if converted_temps is not None:\n",
    "    for i in range(len(temps)):\n",
    "        print(\"{:.2f} degrees {} = {:.2f} degrees {}\".format(\n",
    "            temps[i],\n",
    "            'Celsius' if direction == 'C2F' else 'Fahrenheit',\n",
    "            converted_temps[i],\n",
    "            'Fahrenheit' if direction == 'C2F' else 'Celsius'))\n"
   ]
  },
  {
   "cell_type": "code",
   "execution_count": 21,
   "id": "70446c27",
   "metadata": {},
   "outputs": [],
   "source": [
    "#C\n",
    "import numpy as np\n",
    "\n",
    "def convertTempVec(temps, direction):\n",
    "    # Convert the input list to a NumPy array\n",
    "    temps = np.array(temps)\n",
    "    \n",
    "    # Convert the temperatures based on the input direction using vectorized operations\n",
    "    if direction == 'C2F':\n",
    "        converted_temps = (temps * 9/5) + 32\n",
    "    elif direction == 'F2C':\n",
    "        converted_temps = (temps - 32) * 5/9\n",
    "    else:\n",
    "        # If the direction is not valid, print an error message and return None\n",
    "        print(\"Error: Invalid direction specified\")\n",
    "        return None\n",
    "        \n",
    "    # Return the list of converted temperatures as a NumPy array\n",
    "    return converted_temps\n"
   ]
  },
  {
   "cell_type": "code",
   "execution_count": 22,
   "id": "006805f5",
   "metadata": {},
   "outputs": [
    {
     "name": "stdout",
     "output_type": "stream",
     "text": [
      "-20.00 degrees Celsius = -4.00 degrees Fahrenheit\n",
      "-15.00 degrees Celsius = 5.00 degrees Fahrenheit\n",
      "-10.00 degrees Celsius = 14.00 degrees Fahrenheit\n",
      "-5.00 degrees Celsius = 23.00 degrees Fahrenheit\n",
      "0.00 degrees Celsius = 32.00 degrees Fahrenheit\n",
      "5.00 degrees Celsius = 41.00 degrees Fahrenheit\n",
      "10.00 degrees Celsius = 50.00 degrees Fahrenheit\n",
      "15.00 degrees Celsius = 59.00 degrees Fahrenheit\n",
      "20.00 degrees Celsius = 68.00 degrees Fahrenheit\n",
      "25.00 degrees Celsius = 77.00 degrees Fahrenheit\n",
      "30.00 degrees Celsius = 86.00 degrees Fahrenheit\n",
      "35.00 degrees Celsius = 95.00 degrees Fahrenheit\n",
      "40.00 degrees Celsius = 104.00 degrees Fahrenheit\n"
     ]
    }
   ],
   "source": [
    "temps = [-20, -15, -10, -5, 0, 5, 10, 15, 20, 25, 30, 35, 40]\n",
    "direction = 'C2F'\n",
    "converted_temps = convertTempVec(temps, direction)\n",
    "if converted_temps is not None:\n",
    "    for i in range(len(temps)):\n",
    "        print(\"{:.2f} degrees {} = {:.2f} degrees {}\".format(\n",
    "            temps[i],\n",
    "            'Celsius' if direction == 'C2F' else 'Fahrenheit',\n",
    "            converted_temps[i],\n",
    "            'Fahrenheit' if direction == 'C2F' else 'Celsius'))\n"
   ]
  },
  {
   "cell_type": "markdown",
   "id": "c94fb23f",
   "metadata": {},
   "source": [
    "2. Modifiying the index pf a for-loop"
   ]
  },
  {
   "cell_type": "code",
   "execution_count": 23,
   "id": "f32a1ff3",
   "metadata": {},
   "outputs": [
    {
     "name": "stdout",
     "output_type": "stream",
     "text": [
      "[0, 1, 2, 3, 4, 5, 6, 7, 8, 9]\n"
     ]
    }
   ],
   "source": [
    "numbers= list(range(10))\n",
    "print(numbers)"
   ]
  },
  {
   "cell_type": "code",
   "execution_count": 24,
   "id": "34db6cab",
   "metadata": {},
   "outputs": [
    {
     "name": "stdout",
     "output_type": "stream",
     "text": [
      "n=0, del5 [0, 1, 2, 3, 4, 6, 7, 8, 9]\n",
      "n=1, del4 [0, 1, 2, 3, 6, 7, 8, 9]\n",
      "n=2, del4 [0, 1, 2, 3, 7, 8, 9]\n",
      "n=3, del3 [0, 1, 2, 7, 8, 9]\n",
      "n=8, del3 [0, 1, 2, 8, 9]\n"
     ]
    }
   ],
   "source": [
    "for n in numbers:\n",
    "    i = len(numbers)//2\n",
    "    del numbers[i]\n",
    "    print ('n={}, del{}'.format(n,i),numbers)"
   ]
  },
  {
   "cell_type": "code",
   "execution_count": null,
   "id": "725e9df8",
   "metadata": {},
   "outputs": [],
   "source": [
    "#it pust del has 5,4,3 and removes them from the list."
   ]
  },
  {
   "cell_type": "markdown",
   "id": "a0e0aa91",
   "metadata": {},
   "source": [
    "3. Impact of machine precision on numerical computation "
   ]
  },
  {
   "cell_type": "code",
   "execution_count": 26,
   "id": "d84dde62",
   "metadata": {},
   "outputs": [
    {
     "name": "stdout",
     "output_type": "stream",
     "text": [
      "............... 1.0\n",
      "............... 0.5\n",
      "............... 0.25\n",
      "............... 0.125\n",
      "............... 0.0625\n",
      "............... 0.03125\n",
      "............... 0.015625\n",
      "............... 0.0078125\n",
      "............... 0.00390625\n",
      "............... 0.001953125\n",
      "............... 0.0009765625\n",
      "............... 0.00048828125\n",
      "............... 0.000244140625\n",
      "............... 0.0001220703125\n",
      "............... 6.103515625e-05\n",
      "............... 3.0517578125e-05\n",
      "............... 1.52587890625e-05\n",
      "............... 7.62939453125e-06\n",
      "............... 3.814697265625e-06\n",
      "............... 1.9073486328125e-06\n",
      "............... 9.5367431640625e-07\n",
      "............... 4.76837158203125e-07\n",
      "............... 2.384185791015625e-07\n",
      "............... 1.1920928955078125e-07\n",
      "............... 5.960464477539063e-08\n",
      "............... 2.9802322387695312e-08\n",
      "............... 1.4901161193847656e-08\n",
      "............... 7.450580596923828e-09\n",
      "............... 3.725290298461914e-09\n",
      "............... 1.862645149230957e-09\n",
      "............... 9.313225746154785e-10\n",
      "............... 4.656612873077393e-10\n",
      "............... 2.3283064365386963e-10\n",
      "............... 1.1641532182693481e-10\n",
      "............... 5.820766091346741e-11\n",
      "............... 2.9103830456733704e-11\n",
      "............... 1.4551915228366852e-11\n",
      "............... 7.275957614183426e-12\n",
      "............... 3.637978807091713e-12\n",
      "............... 1.8189894035458565e-12\n",
      "............... 9.094947017729282e-13\n",
      "............... 4.547473508864641e-13\n",
      "............... 2.2737367544323206e-13\n",
      "............... 1.1368683772161603e-13\n",
      "............... 5.684341886080802e-14\n",
      "............... 2.842170943040401e-14\n",
      "............... 1.4210854715202004e-14\n",
      "............... 7.105427357601002e-15\n",
      "............... 3.552713678800501e-15\n",
      "............... 1.7763568394002505e-15\n",
      "............... 8.881784197001252e-16\n",
      "............... 4.440892098500626e-16\n",
      "............... 2.220446049250313e-16\n",
      "final eps: 1.1102230246251565e-16\n"
     ]
    }
   ],
   "source": [
    "eps = 1.0\n",
    "while 1.0 != 1.0 + eps:\n",
    "    print ('...............', eps)\n",
    "    eps /= 2.0\n",
    "print ('final eps:', eps)"
   ]
  },
  {
   "cell_type": "code",
   "execution_count": null,
   "id": "baa2a482",
   "metadata": {},
   "outputs": [],
   "source": [
    "#find the smallest value of eps that can be added to 1.0 such that the result is different from 1.0. It starts with eps set to 1.0 and divides it by 2 in each iteration of the while loop until 1.0 + eps is not equal to 1.0 anymore.\n",
    "\n",
    "#The reason why 1.0 != 1.0 + eps can be False is also due to the way floating-point numbers are represented in a computer. "
   ]
  },
  {
   "cell_type": "markdown",
   "id": "47b5edcc",
   "metadata": {},
   "source": [
    "4.  Impact of round-off errors on numerical computations "
   ]
  },
  {
   "cell_type": "code",
   "execution_count": 27,
   "id": "dc82cf0e",
   "metadata": {},
   "outputs": [
    {
     "name": "stdout",
     "output_type": "stream",
     "text": [
      "With 1 times sqrt and then 1 times **2, the number 2.0 becomes: 2.0000000000000004\n",
      "With 2 times sqrt and then 2 times **2, the number 2.0 becomes: 1.9999999999999996\n",
      "With 3 times sqrt and then 3 times **2, the number 2.0 becomes: 1.9999999999999996\n",
      "With 4 times sqrt and then 4 times **2, the number 2.0 becomes: 1.9999999999999964\n",
      "With 5 times sqrt and then 5 times **2, the number 2.0 becomes: 1.9999999999999964\n",
      "With 6 times sqrt and then 6 times **2, the number 2.0 becomes: 1.9999999999999964\n",
      "With 7 times sqrt and then 7 times **2, the number 2.0 becomes: 1.9999999999999714\n",
      "With 8 times sqrt and then 8 times **2, the number 2.0 becomes: 2.0000000000000235\n",
      "With 9 times sqrt and then 9 times **2, the number 2.0 becomes: 2.0000000000000235\n",
      "With 10 times sqrt and then 10 times **2, the number 2.0 becomes: 2.0000000000000235\n",
      "With 11 times sqrt and then 11 times **2, the number 2.0 becomes: 2.0000000000000235\n",
      "With 12 times sqrt and then 12 times **2, the number 2.0 becomes: 1.9999999999991336\n",
      "With 13 times sqrt and then 13 times **2, the number 2.0 becomes: 1.9999999999973292\n",
      "With 14 times sqrt and then 14 times **2, the number 2.0 becomes: 1.9999999999973292\n",
      "With 15 times sqrt and then 15 times **2, the number 2.0 becomes: 1.9999999999973292\n",
      "With 16 times sqrt and then 16 times **2, the number 2.0 becomes: 2.0000000000117746\n",
      "With 17 times sqrt and then 17 times **2, the number 2.0 becomes: 2.0000000000408580\n",
      "With 18 times sqrt and then 18 times **2, the number 2.0 becomes: 2.0000000000408580\n",
      "With 19 times sqrt and then 19 times **2, the number 2.0 becomes: 2.0000000001573586\n",
      "With 20 times sqrt and then 20 times **2, the number 2.0 becomes: 2.0000000001573586\n",
      "With 21 times sqrt and then 21 times **2, the number 2.0 becomes: 2.0000000001573586\n",
      "With 22 times sqrt and then 22 times **2, the number 2.0 becomes: 2.0000000010885857\n",
      "With 23 times sqrt and then 23 times **2, the number 2.0 becomes: 2.0000000029511749\n",
      "With 24 times sqrt and then 24 times **2, the number 2.0 becomes: 2.0000000066771721\n",
      "With 25 times sqrt and then 25 times **2, the number 2.0 becomes: 2.0000000066771721\n",
      "With 26 times sqrt and then 26 times **2, the number 2.0 becomes: 1.9999999917774933\n",
      "With 27 times sqrt and then 27 times **2, the number 2.0 becomes: 1.9999999917774933\n",
      "With 28 times sqrt and then 28 times **2, the number 2.0 becomes: 1.9999999917774933\n",
      "With 29 times sqrt and then 29 times **2, the number 2.0 becomes: 1.9999999917774933\n",
      "With 30 times sqrt and then 30 times **2, the number 2.0 becomes: 1.9999999917774933\n",
      "With 31 times sqrt and then 31 times **2, the number 2.0 becomes: 1.9999999917774933\n",
      "With 32 times sqrt and then 32 times **2, the number 2.0 becomes: 1.9999990380770896\n",
      "With 33 times sqrt and then 33 times **2, the number 2.0 becomes: 1.9999971307544144\n",
      "With 34 times sqrt and then 34 times **2, the number 2.0 becomes: 1.9999971307544144\n",
      "With 35 times sqrt and then 35 times **2, the number 2.0 becomes: 1.9999971307544144\n",
      "With 36 times sqrt and then 36 times **2, the number 2.0 becomes: 1.9999971307544144\n",
      "With 37 times sqrt and then 37 times **2, the number 2.0 becomes: 1.9999971307544144\n",
      "With 38 times sqrt and then 38 times **2, the number 2.0 becomes: 1.9999360966436217\n",
      "With 39 times sqrt and then 39 times **2, the number 2.0 becomes: 1.9999360966436217\n",
      "With 40 times sqrt and then 40 times **2, the number 2.0 becomes: 1.9999360966436217\n",
      "With 41 times sqrt and then 41 times **2, the number 2.0 becomes: 1.9994478907329654\n",
      "With 42 times sqrt and then 42 times **2, the number 2.0 becomes: 1.9984718365144798\n",
      "With 43 times sqrt and then 43 times **2, the number 2.0 becomes: 1.9965211562778555\n",
      "With 44 times sqrt and then 44 times **2, the number 2.0 becomes: 1.9965211562778555\n",
      "With 45 times sqrt and then 45 times **2, the number 2.0 becomes: 1.9887374575497223\n",
      "With 46 times sqrt and then 46 times **2, the number 2.0 becomes: 1.9887374575497223\n",
      "With 47 times sqrt and then 47 times **2, the number 2.0 becomes: 1.9887374575497223\n",
      "With 48 times sqrt and then 48 times **2, the number 2.0 becomes: 1.9887374575497223\n",
      "With 49 times sqrt and then 49 times **2, the number 2.0 becomes: 1.8682459487159784\n",
      "With 50 times sqrt and then 50 times **2, the number 2.0 becomes: 1.6487212645509468\n",
      "With 51 times sqrt and then 51 times **2, the number 2.0 becomes: 1.6487212645509468\n",
      "With 52 times sqrt and then 52 times **2, the number 2.0 becomes: 1.0000000000000000\n",
      "With 53 times sqrt and then 53 times **2, the number 2.0 becomes: 1.0000000000000000\n",
      "With 54 times sqrt and then 54 times **2, the number 2.0 becomes: 1.0000000000000000\n",
      "With 55 times sqrt and then 55 times **2, the number 2.0 becomes: 1.0000000000000000\n",
      "With 56 times sqrt and then 56 times **2, the number 2.0 becomes: 1.0000000000000000\n",
      "With 57 times sqrt and then 57 times **2, the number 2.0 becomes: 1.0000000000000000\n",
      "With 58 times sqrt and then 58 times **2, the number 2.0 becomes: 1.0000000000000000\n",
      "With 59 times sqrt and then 59 times **2, the number 2.0 becomes: 1.0000000000000000\n"
     ]
    }
   ],
   "source": [
    "from math import sqrt\n",
    "for n in range(1, 60):\n",
    "    r_org = 2.0\n",
    "    r = r_org\n",
    "    for i in range(n):\n",
    "        r = sqrt(r)\n",
    "    for i in range(n):\n",
    "        r = r ** 2\n",
    "    print ('With {} times sqrt and then {} times **2, the number {} becomes: {:.16f}'.format(n,n,r_org,r))"
   ]
  },
  {
   "cell_type": "code",
   "execution_count": null,
   "id": "ff389a58",
   "metadata": {},
   "outputs": [],
   "source": [
    "#for each value of n between 1 and 59, the program calculates the result of repeatedly taking the square root of an initial value (r_org = 2.0) n times, followed by repeatedly squaring the resulting value n times. The program then prints out the original value of r_org and the final result.\n"
   ]
  },
  {
   "cell_type": "markdown",
   "id": "6f42f719",
   "metadata": {},
   "source": [
    "6. String concatenation using for-loop (only python section)"
   ]
  },
  {
   "cell_type": "code",
   "execution_count": 28,
   "id": "674c998f",
   "metadata": {},
   "outputs": [
    {
     "name": "stdout",
     "output_type": "stream",
     "text": [
      "abcdefgh\n"
     ]
    }
   ],
   "source": [
    "q = [['a', 'b', 'c'], ['d', 'e', 'f'], ['g', 'h']]\n",
    "letters = \"\"\n",
    "\n",
    "for sublist in q:\n",
    "    for letter in sublist:\n",
    "        letters += letter\n",
    "\n",
    "print(letters)\n"
   ]
  },
  {
   "cell_type": "code",
   "execution_count": null,
   "id": "53afecf6",
   "metadata": {},
   "outputs": [],
   "source": []
  }
 ],
 "metadata": {
  "kernelspec": {
   "display_name": "Python 3 (ipykernel)",
   "language": "python",
   "name": "python3"
  },
  "language_info": {
   "codemirror_mode": {
    "name": "ipython",
    "version": 3
   },
   "file_extension": ".py",
   "mimetype": "text/x-python",
   "name": "python",
   "nbconvert_exporter": "python",
   "pygments_lexer": "ipython3",
   "version": "3.9.13"
  }
 },
 "nbformat": 4,
 "nbformat_minor": 5
}
