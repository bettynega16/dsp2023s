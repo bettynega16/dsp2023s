{
 "cells": [
  {
   "cell_type": "code",
   "execution_count": null,
   "id": "bd8a80bf",
   "metadata": {},
   "outputs": [],
   "source": [
    "1. Data transfer: Parsing Amino Acid data file."
   ]
  },
  {
   "cell_type": "code",
   "execution_count": 32,
   "id": "02d8d46d",
   "metadata": {},
   "outputs": [],
   "source": [
    "import sys\n",
    "\n",
    "input_file = 'C:/data/1A2T_A.dssp'  # Update with the correct file path\n",
    "output_file = './readDSSP.out'\n",
    "\n",
    "# Rest of the code\n"
   ]
  },
  {
   "cell_type": "code",
   "execution_count": 43,
   "id": "6586affc",
   "metadata": {},
   "outputs": [],
   "source": [
    "import sys\n",
    "import os\n",
    "\n",
    "def read_dssp(input_file, output_file):\n",
    "    # Extract protein name from input file path\n",
    "    protein_name = os.path.basename(input_file).split('.')[0]\n",
    "\n",
    "    # Check if input file exists\n",
    "    if not os.path.exists(input_file):\n",
    "        print(f'Error: Input file {input_file} not found.')\n",
    "        print('Program aborted.')\n",
    "        return\n",
    "\n",
    "    # Read input file\n",
    "    with open(input_file, 'r') as f:\n",
    "        lines = f.readlines()\n",
    "\n",
    "    # Extract amino acids and partially exposed surface areas\n",
    "    amino_acids = []\n",
    "    exposed_surface_areas = []\n",
    "    for line in lines:\n",
    "        if line.startswith('  #  AA  ACC') or line.startswith('DATE=') or line.startswith('====') or line.startswith('REFERENCE'):\n",
    "            continue  # Skip header and comment lines\n",
    "        fields = line.strip().split()\n",
    "        if len(fields) >= 3:\n",
    "            amino_acid = fields[1]\n",
    "            try:\n",
    "                exposed_surface_area = float(fields[2])\n",
    "            except ValueError:\n",
    "                print(f'Error: Failed to convert \"{fields[2]}\" to float in line: {line}')\n",
    "                print('Program aborted.')\n",
    "                return\n",
    "            amino_acids.append(amino_acid)\n",
    "            exposed_surface_areas.append(exposed_surface_area)\n",
    "\n",
    "    # Define maximum surface area values\n",
    "    max_surface_area = {'A': 129.0, 'R': 274.0, 'N': 195.0, 'D': 193.0, 'C': 167.0,\n",
    "                        'Q': 225.0, 'E': 223.0, 'G': 104.0, 'H': 224.0, 'I': 197.0,\n",
    "                        'L': 201.0, 'K': 236.0, 'M': 224.0, 'F': 240.0, 'P': 159.0,\n",
    "                        'S': 155.0, 'T': 172.0, 'W': 285.0, 'Y': 263.0, 'V': 174.0}\n",
    "\n",
    "    # Calculate fractional exposed surface area and write output to file\n",
    "    with open(output_file, 'w') as f:\n",
    "        f.write(f'Protein Name: {protein_name}\\n')\n",
    "        for i in range(len(amino_acids)):\n",
    "            amino_acid = amino_acids[i]\n",
    "            exposed_surface_area = exposed_surface_areas[i]\n",
    "            fractional_exposed_surface_area = exposed_surface_area / max_surface_area[amino_acid]\n",
    "            f.write(f'Amino Acid: {amino_acid}, Exposed Surface Area: {exposed_surface_area}, RSA: {fractional_exposed_surface_area}\\n')\n",
    "\n",
    "    print(f'Success! Output written to {output_file}')\n",
    "\n",
    "if __name__ == '__main__':\n",
    "    if len(sys.argv) != 3:\n",
    "        print('Usage:')\n",
    "        print('./readDSSP.py <input dssp file> <output summary file>\\n')\n",
    "        print('Program aborted.')\n",
    "    else:\n",
    "        input_file = os.path.abspath(sys.argv[1])\n",
    "        output_file = os\n"
   ]
  },
  {
   "cell_type": "code",
   "execution_count": 44,
   "id": "9dfb457f",
   "metadata": {},
   "outputs": [],
   "source": [
    "import sys\n",
    "\n",
    "input_file = 'C:/data/1A2T_A.dssp'  # Update with the correct file path\n",
    "output_file = './readDSSP.out'"
   ]
  },
  {
   "cell_type": "code",
   "execution_count": 45,
   "id": "120c8a0a",
   "metadata": {},
   "outputs": [],
   "source": [
    "import sys\n",
    "import os\n",
    "\n",
    "def read_dssp(input_file, output_file):\n",
    "    # Extract protein name from input file path\n",
    "    protein_name = os.path.basename(input_file).split('.')[0]\n",
    "\n",
    "    # Check if input file exists\n",
    "    if not os.path.exists(input_file):\n",
    "        print(f'Error: Input file {input_file} not found.')\n",
    "        print('Program aborted.')\n",
    "        return"
   ]
  },
  {
   "cell_type": "markdown",
   "id": "e28e86e7",
   "metadata": {},
   "source": [
    "2. data transfer: converting comma-separated-values (CSV) input to formatted output"
   ]
  },
  {
   "cell_type": "code",
   "execution_count": 8,
   "id": "41206f9e",
   "metadata": {},
   "outputs": [],
   "source": [
    "import sys\n",
    "\n",
    "# Get input and output file names from command line arguments\n",
    "input_file = sys.argv[1]\n",
    "output_file = sys.argv[2]\n",
    "\n",
    "# Read data from input file\n",
    "with open('data.python.out', 'r') as f:\n",
    "    data = f.read()\n",
    "\n",
    "# Split the data into a list of lists\n",
    "data = [[float(num) for num in line.split()] for line in data.strip().split('\\n')]\n",
    "\n",
    "# Format the data to three decimal places\n",
    "formatted_data = [['{:.3f}'.format(num) for num in line] for line in data]\n",
    "\n",
    "# Write formatted data to output file\n",
    "with open(output_file, 'w') as f:\n",
    "    for line in formatted_data:\n",
    "        f.write(' '.join(line) + '\\n')\n"
   ]
  },
  {
   "cell_type": "code",
   "execution_count": 10,
   "id": "4414f30f",
   "metadata": {},
   "outputs": [
    {
     "ename": "SyntaxError",
     "evalue": "invalid syntax (740590366.py, line 1)",
     "output_type": "error",
     "traceback": [
      "\u001b[1;36m  File \u001b[1;32m\"C:\\Users\\betty\\AppData\\Local\\Temp\\ipykernel_49216\\740590366.py\"\u001b[1;36m, line \u001b[1;32m1\u001b[0m\n\u001b[1;33m    python csv2formatted.py data.in data.python.out\u001b[0m\n\u001b[1;37m           ^\u001b[0m\n\u001b[1;31mSyntaxError\u001b[0m\u001b[1;31m:\u001b[0m invalid syntax\n"
     ]
    }
   ],
   "source": [
    "python csv2formatted.py data.in data.python.out\n"
   ]
  },
  {
   "cell_type": "code",
   "execution_count": null,
   "id": "491f9b71",
   "metadata": {},
   "outputs": [],
   "source": []
  }
 ],
 "metadata": {
  "kernelspec": {
   "display_name": "Python 3 (ipykernel)",
   "language": "python",
   "name": "python3"
  },
  "language_info": {
   "codemirror_mode": {
    "name": "ipython",
    "version": 3
   },
   "file_extension": ".py",
   "mimetype": "text/x-python",
   "name": "python",
   "nbconvert_exporter": "python",
   "pygments_lexer": "ipython3",
   "version": "3.9.13"
  }
 },
 "nbformat": 4,
 "nbformat_minor": 5
}
