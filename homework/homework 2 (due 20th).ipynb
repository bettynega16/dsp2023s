{
 "cells": [
  {
   "cell_type": "code",
   "execution_count": 5,
   "id": "afffcae4",
   "metadata": {},
   "outputs": [],
   "source": [
    "#answer for number 1 & 2 values problem"
   ]
  },
  {
   "cell_type": "code",
   "execution_count": 7,
   "id": "f4e130ca",
   "metadata": {},
   "outputs": [
    {
     "ename": "SyntaxError",
     "evalue": "unexpected character after line continuation character (2101677411.py, line 1)",
     "output_type": "error",
     "traceback": [
      "\u001b[1;36m  File \u001b[1;32m\"C:\\Users\\betty\\AppData\\Local\\Temp\\ipykernel_14536\\2101677411.py\"\u001b[1;36m, line \u001b[1;32m1\u001b[0m\n\u001b[1;33m    1\\2\u001b[0m\n\u001b[1;37m      ^\u001b[0m\n\u001b[1;31mSyntaxError\u001b[0m\u001b[1;31m:\u001b[0m unexpected character after line continuation character\n"
     ]
    }
   ],
   "source": [
    "1\\2 #this is not working because it is a forward slash instead of a backward slash"
   ]
  },
  {
   "cell_type": "code",
   "execution_count": 8,
   "id": "a4c916f5",
   "metadata": {},
   "outputs": [
    {
     "data": {
      "text/plain": [
       "0.5"
      ]
     },
     "execution_count": 8,
     "metadata": {},
     "output_type": "execute_result"
    }
   ],
   "source": [
    "1/2 #this is a float answer for when we divide something"
   ]
  },
  {
   "cell_type": "code",
   "execution_count": 14,
   "id": "f7ec950e",
   "metadata": {},
   "outputs": [],
   "source": [
    "import numpy as np"
   ]
  },
  {
   "cell_type": "code",
   "execution_count": 17,
   "id": "182b2601",
   "metadata": {},
   "outputs": [
    {
     "data": {
      "text/plain": [
       "0"
      ]
     },
     "execution_count": 17,
     "metadata": {},
     "output_type": "execute_result"
    }
   ],
   "source": [
    "np.int8(1/2) #we have to put np because jupyter does not recoginze int8"
   ]
  },
  {
   "cell_type": "code",
   "execution_count": 18,
   "id": "00e6fbfe",
   "metadata": {},
   "outputs": [
    {
     "data": {
      "text/plain": [
       "0"
      ]
     },
     "execution_count": 18,
     "metadata": {},
     "output_type": "execute_result"
    }
   ],
   "source": [
    "np.int8(1/3)#this is a numpy problem"
   ]
  },
  {
   "cell_type": "code",
   "execution_count": 19,
   "id": "94e77fe4",
   "metadata": {},
   "outputs": [
    {
     "data": {
      "text/plain": [
       "-7"
      ]
     },
     "execution_count": 19,
     "metadata": {},
     "output_type": "execute_result"
    }
   ],
   "source": [
    "-5^2 #subracts binary numbers of -5 and 2"
   ]
  },
  {
   "cell_type": "code",
   "execution_count": 20,
   "id": "5952298a",
   "metadata": {},
   "outputs": [
    {
     "data": {
      "text/plain": [
       "-25"
      ]
     },
     "execution_count": 20,
     "metadata": {},
     "output_type": "execute_result"
    }
   ],
   "source": [
    "-5**2 #exponential problem"
   ]
  },
  {
   "cell_type": "code",
   "execution_count": 21,
   "id": "8f366228",
   "metadata": {},
   "outputs": [
    {
     "data": {
      "text/plain": [
       "-7"
      ]
     },
     "execution_count": 21,
     "metadata": {},
     "output_type": "execute_result"
    }
   ],
   "source": [
    "(-5) ^ 2 #gives us the binary numbers of -5 and 2"
   ]
  },
  {
   "cell_type": "code",
   "execution_count": 22,
   "id": "39a5123d",
   "metadata": {},
   "outputs": [
    {
     "data": {
      "text/plain": [
       "25"
      ]
     },
     "execution_count": 22,
     "metadata": {},
     "output_type": "execute_result"
    }
   ],
   "source": [
    "(-5) ** 2 #solves the problem the right way to get rid of the negative."
   ]
  },
  {
   "cell_type": "code",
   "execution_count": 23,
   "id": "2617dfce",
   "metadata": {},
   "outputs": [
    {
     "data": {
      "text/plain": [
       "7.0"
      ]
     },
     "execution_count": 23,
     "metadata": {},
     "output_type": "execute_result"
    }
   ],
   "source": [
    "10-6/2 #uses pendmas to solve the peoblem"
   ]
  },
  {
   "cell_type": "code",
   "execution_count": 24,
   "id": "2c665810",
   "metadata": {},
   "outputs": [
    {
     "data": {
      "text/plain": [
       "30.0"
      ]
     },
     "execution_count": 24,
     "metadata": {},
     "output_type": "execute_result"
    }
   ],
   "source": [
    "5*4/2*3 #uses pendmas to solve the problem"
   ]
  },
  {
   "cell_type": "code",
   "execution_count": 25,
   "id": "cbf68e27",
   "metadata": {},
   "outputs": [],
   "source": [
    "import numpy as np"
   ]
  },
  {
   "cell_type": "code",
   "execution_count": 29,
   "id": "e960055d",
   "metadata": {},
   "outputs": [],
   "source": [
    "ii16=np.iinfo(np.int16)"
   ]
  },
  {
   "cell_type": "code",
   "execution_count": 30,
   "id": "47b160dd",
   "metadata": {},
   "outputs": [
    {
     "data": {
      "text/plain": [
       "-32768"
      ]
     },
     "execution_count": 30,
     "metadata": {},
     "output_type": "execute_result"
    }
   ],
   "source": [
    "ii16.min"
   ]
  },
  {
   "cell_type": "code",
   "execution_count": 31,
   "id": "778dcf48",
   "metadata": {},
   "outputs": [
    {
     "data": {
      "text/plain": [
       "32767"
      ]
     },
     "execution_count": 31,
     "metadata": {},
     "output_type": "execute_result"
    }
   ],
   "source": [
    "ii16.max"
   ]
  },
  {
   "cell_type": "code",
   "execution_count": 32,
   "id": "4714ab9e",
   "metadata": {},
   "outputs": [],
   "source": [
    "ii32=np.iinfo(np.int32)"
   ]
  },
  {
   "cell_type": "code",
   "execution_count": 33,
   "id": "a819c648",
   "metadata": {},
   "outputs": [
    {
     "data": {
      "text/plain": [
       "-2147483648"
      ]
     },
     "execution_count": 33,
     "metadata": {},
     "output_type": "execute_result"
    }
   ],
   "source": [
    "ii32.min"
   ]
  },
  {
   "cell_type": "code",
   "execution_count": 34,
   "id": "104ee0d6",
   "metadata": {},
   "outputs": [
    {
     "data": {
      "text/plain": [
       "2147483647"
      ]
     },
     "execution_count": 34,
     "metadata": {},
     "output_type": "execute_result"
    }
   ],
   "source": [
    "ii32.max"
   ]
  },
  {
   "cell_type": "code",
   "execution_count": 36,
   "id": "2bc02e43",
   "metadata": {},
   "outputs": [
    {
     "data": {
      "text/plain": [
       "-128"
      ]
     },
     "execution_count": 36,
     "metadata": {},
     "output_type": "execute_result"
    }
   ],
   "source": [
    "np.int8(128)#if we put an integer greater than 127 it will restart back to -128 "
   ]
  },
  {
   "cell_type": "code",
   "execution_count": 37,
   "id": "b421d6ca",
   "metadata": {},
   "outputs": [
    {
     "data": {
      "text/plain": [
       "127"
      ]
     },
     "execution_count": 37,
     "metadata": {},
     "output_type": "execute_result"
    }
   ],
   "source": [
    "np.int8(-129)#it will restart back to 127."
   ]
  },
  {
   "cell_type": "code",
   "execution_count": 38,
   "id": "184523b7",
   "metadata": {},
   "outputs": [],
   "source": [
    "#answer for problem 1,2,4,5,6,7,8"
   ]
  },
  {
   "cell_type": "code",
   "execution_count": 39,
   "id": "cbbbe473",
   "metadata": {},
   "outputs": [],
   "source": [
    "a=1 #stores one as 1 equals one"
   ]
  },
  {
   "cell_type": "code",
   "execution_count": 40,
   "id": "0502672d",
   "metadata": {},
   "outputs": [],
   "source": [
    "b='x' #stores b as 'x'"
   ]
  },
  {
   "cell_type": "code",
   "execution_count": 42,
   "id": "655c24d5",
   "metadata": {},
   "outputs": [],
   "source": [
    "c= True #stores c as true"
   ]
  },
  {
   "cell_type": "code",
   "execution_count": 44,
   "id": "d268b204",
   "metadata": {},
   "outputs": [
    {
     "name": "stdout",
     "output_type": "stream",
     "text": [
      "1\n"
     ]
    }
   ],
   "source": [
    "print (a)"
   ]
  },
  {
   "cell_type": "code",
   "execution_count": 45,
   "id": "9e4a69c3",
   "metadata": {},
   "outputs": [
    {
     "name": "stdout",
     "output_type": "stream",
     "text": [
      "x\n"
     ]
    }
   ],
   "source": [
    "print (b)"
   ]
  },
  {
   "cell_type": "code",
   "execution_count": 46,
   "id": "1306fcad",
   "metadata": {},
   "outputs": [
    {
     "name": "stdout",
     "output_type": "stream",
     "text": [
      "True\n"
     ]
    }
   ],
   "source": [
    "print (c)"
   ]
  },
  {
   "cell_type": "code",
   "execution_count": 47,
   "id": "4637d8ac",
   "metadata": {},
   "outputs": [
    {
     "data": {
      "text/plain": [
       "True"
      ]
     },
     "execution_count": 47,
     "metadata": {},
     "output_type": "execute_result"
    }
   ],
   "source": [
    "a == c # it comes back as true becasue true is one"
   ]
  },
  {
   "cell_type": "code",
   "execution_count": 48,
   "id": "b50b23e3",
   "metadata": {},
   "outputs": [
    {
     "data": {
      "text/plain": [
       "2"
      ]
     },
     "execution_count": 48,
     "metadata": {},
     "output_type": "execute_result"
    }
   ],
   "source": [
    "a + c # true equals to 1 so 1+1 is 2."
   ]
  },
  {
   "cell_type": "code",
   "execution_count": 59,
   "id": "fe17afd6",
   "metadata": {},
   "outputs": [
    {
     "ename": "SyntaxError",
     "evalue": "invalid syntax (1147041593.py, line 1)",
     "output_type": "error",
     "traceback": [
      "\u001b[1;36m  File \u001b[1;32m\"C:\\Users\\betty\\AppData\\Local\\Temp\\ipykernel_14536\\1147041593.py\"\u001b[1;36m, line \u001b[1;32m1\u001b[0m\n\u001b[1;33m    d= [ 1 2 3 4] #it is because there is no , so it does not store it as a list\u001b[0m\n\u001b[1;37m           ^\u001b[0m\n\u001b[1;31mSyntaxError\u001b[0m\u001b[1;31m:\u001b[0m invalid syntax\n"
     ]
    }
   ],
   "source": [
    "d= [ 1 2 3 4] #it is because there is no , so it does not store it as a list"
   ]
  },
  {
   "cell_type": "code",
   "execution_count": 50,
   "id": "f6757925",
   "metadata": {},
   "outputs": [],
   "source": [
    "e = ['a' 'b' 'c' 'd']  #it stores it as a list for e"
   ]
  },
  {
   "cell_type": "code",
   "execution_count": 51,
   "id": "4fbb92af",
   "metadata": {},
   "outputs": [],
   "source": [
    "f= ['a','b','c','d'] #stores f as a list"
   ]
  },
  {
   "cell_type": "code",
   "execution_count": 52,
   "id": "5bd5baee",
   "metadata": {},
   "outputs": [],
   "source": [
    "g = ['abcd'] #stores g as a lsit"
   ]
  },
  {
   "cell_type": "code",
   "execution_count": 55,
   "id": "c60fd47d",
   "metadata": {},
   "outputs": [],
   "source": [
    "h = {'a' 'b' 'c' 'd'} #stores h as a list"
   ]
  },
  {
   "cell_type": "code",
   "execution_count": 56,
   "id": "a76643bc",
   "metadata": {},
   "outputs": [
    {
     "ename": "SyntaxError",
     "evalue": "invalid syntax (2310578147.py, line 1)",
     "output_type": "error",
     "traceback": [
      "\u001b[1;36m  File \u001b[1;32m\"C:\\Users\\betty\\AppData\\Local\\Temp\\ipykernel_14536\\2310578147.py\"\u001b[1;36m, line \u001b[1;32m1\u001b[0m\n\u001b[1;33m    i = { a b c d}\u001b[0m\n\u001b[1;37m            ^\u001b[0m\n\u001b[1;31mSyntaxError\u001b[0m\u001b[1;31m:\u001b[0m invalid syntax\n"
     ]
    }
   ],
   "source": [
    "i = { a b c d} # cant stroe i as a list because there is '' around the letters"
   ]
  },
  {
   "cell_type": "code",
   "execution_count": 63,
   "id": "b0f44fa9",
   "metadata": {},
   "outputs": [
    {
     "ename": "NameError",
     "evalue": "name 'd' is not defined",
     "output_type": "error",
     "traceback": [
      "\u001b[1;31m---------------------------------------------------------------------------\u001b[0m",
      "\u001b[1;31mNameError\u001b[0m                                 Traceback (most recent call last)",
      "\u001b[1;32m~\\AppData\\Local\\Temp\\ipykernel_14536\\1152398069.py\u001b[0m in \u001b[0;36m<module>\u001b[1;34m\u001b[0m\n\u001b[1;32m----> 1\u001b[1;33m \u001b[0mprint\u001b[0m\u001b[1;33m(\u001b[0m\u001b[0md\u001b[0m\u001b[1;33m)\u001b[0m\u001b[1;33m\u001b[0m\u001b[1;33m\u001b[0m\u001b[0m\n\u001b[0m",
      "\u001b[1;31mNameError\u001b[0m: name 'd' is not defined"
     ]
    }
   ],
   "source": [
    "print(d)"
   ]
  },
  {
   "cell_type": "code",
   "execution_count": 62,
   "id": "89fdb6f3",
   "metadata": {},
   "outputs": [
    {
     "name": "stdout",
     "output_type": "stream",
     "text": [
      "['abcd']\n"
     ]
    }
   ],
   "source": [
    "print (e)"
   ]
  },
  {
   "cell_type": "code",
   "execution_count": 64,
   "id": "8c5e8fc0",
   "metadata": {},
   "outputs": [
    {
     "name": "stdout",
     "output_type": "stream",
     "text": [
      "['a', 'b', 'c', 'd']\n"
     ]
    }
   ],
   "source": [
    "print (f)"
   ]
  },
  {
   "cell_type": "code",
   "execution_count": 65,
   "id": "e89b8a2c",
   "metadata": {},
   "outputs": [
    {
     "name": "stdout",
     "output_type": "stream",
     "text": [
      "['abcd']\n"
     ]
    }
   ],
   "source": [
    "print (g)"
   ]
  },
  {
   "cell_type": "code",
   "execution_count": 66,
   "id": "681bedbe",
   "metadata": {},
   "outputs": [
    {
     "name": "stdout",
     "output_type": "stream",
     "text": [
      "{'abcd'}\n"
     ]
    }
   ],
   "source": [
    "print (h)"
   ]
  },
  {
   "cell_type": "code",
   "execution_count": 67,
   "id": "3b2af922",
   "metadata": {},
   "outputs": [
    {
     "ename": "NameError",
     "evalue": "name 'i' is not defined",
     "output_type": "error",
     "traceback": [
      "\u001b[1;31m---------------------------------------------------------------------------\u001b[0m",
      "\u001b[1;31mNameError\u001b[0m                                 Traceback (most recent call last)",
      "\u001b[1;32m~\\AppData\\Local\\Temp\\ipykernel_14536\\857492048.py\u001b[0m in \u001b[0;36m<module>\u001b[1;34m\u001b[0m\n\u001b[1;32m----> 1\u001b[1;33m \u001b[0mprint\u001b[0m \u001b[1;33m(\u001b[0m\u001b[0mi\u001b[0m\u001b[1;33m)\u001b[0m\u001b[1;33m\u001b[0m\u001b[1;33m\u001b[0m\u001b[0m\n\u001b[0m",
      "\u001b[1;31mNameError\u001b[0m: name 'i' is not defined"
     ]
    }
   ],
   "source": [
    "print (i)"
   ]
  },
  {
   "cell_type": "code",
   "execution_count": 69,
   "id": "f511a636",
   "metadata": {},
   "outputs": [
    {
     "ename": "SyntaxError",
     "evalue": "invalid syntax (1100193933.py, line 1)",
     "output_type": "error",
     "traceback": [
      "\u001b[1;36m  File \u001b[1;32m\"C:\\Users\\betty\\AppData\\Local\\Temp\\ipykernel_14536\\1100193933.py\"\u001b[1;36m, line \u001b[1;32m1\u001b[0m\n\u001b[1;33m    class (a)\u001b[0m\n\u001b[1;37m          ^\u001b[0m\n\u001b[1;31mSyntaxError\u001b[0m\u001b[1;31m:\u001b[0m invalid syntax\n"
     ]
    }
   ],
   "source": [
    "class (a)"
   ]
  },
  {
   "cell_type": "code",
   "execution_count": 70,
   "id": "88d8413f",
   "metadata": {},
   "outputs": [
    {
     "data": {
      "text/plain": [
       "int"
      ]
     },
     "execution_count": 70,
     "metadata": {},
     "output_type": "execute_result"
    }
   ],
   "source": [
    "type(a)"
   ]
  },
  {
   "cell_type": "code",
   "execution_count": 72,
   "id": "81d92eb4",
   "metadata": {},
   "outputs": [
    {
     "data": {
      "text/plain": [
       "True"
      ]
     },
     "execution_count": 72,
     "metadata": {},
     "output_type": "execute_result"
    }
   ],
   "source": [
    "True "
   ]
  },
  {
   "cell_type": "code",
   "execution_count": 73,
   "id": "a08768c5",
   "metadata": {},
   "outputs": [
    {
     "ename": "NameError",
     "evalue": "name 'true' is not defined",
     "output_type": "error",
     "traceback": [
      "\u001b[1;31m---------------------------------------------------------------------------\u001b[0m",
      "\u001b[1;31mNameError\u001b[0m                                 Traceback (most recent call last)",
      "\u001b[1;32m~\\AppData\\Local\\Temp\\ipykernel_14536\\592217714.py\u001b[0m in \u001b[0;36m<module>\u001b[1;34m\u001b[0m\n\u001b[1;32m----> 1\u001b[1;33m \u001b[0mtrue\u001b[0m\u001b[1;33m\u001b[0m\u001b[1;33m\u001b[0m\u001b[0m\n\u001b[0m",
      "\u001b[1;31mNameError\u001b[0m: name 'true' is not defined"
     ]
    }
   ],
   "source": [
    "true #needs to be captalized "
   ]
  },
  {
   "cell_type": "code",
   "execution_count": 74,
   "id": "0c8d4839",
   "metadata": {},
   "outputs": [
    {
     "data": {
      "text/plain": [
       "False"
      ]
     },
     "execution_count": 74,
     "metadata": {},
     "output_type": "execute_result"
    }
   ],
   "source": [
    "False"
   ]
  },
  {
   "cell_type": "code",
   "execution_count": 75,
   "id": "952b4afc",
   "metadata": {},
   "outputs": [
    {
     "ename": "NameError",
     "evalue": "name 'false' is not defined",
     "output_type": "error",
     "traceback": [
      "\u001b[1;31m---------------------------------------------------------------------------\u001b[0m",
      "\u001b[1;31mNameError\u001b[0m                                 Traceback (most recent call last)",
      "\u001b[1;32m~\\AppData\\Local\\Temp\\ipykernel_14536\\1070210267.py\u001b[0m in \u001b[0;36m<module>\u001b[1;34m\u001b[0m\n\u001b[1;32m----> 1\u001b[1;33m \u001b[0mfalse\u001b[0m \u001b[1;31m#needs to be captalized\u001b[0m\u001b[1;33m\u001b[0m\u001b[1;33m\u001b[0m\u001b[0m\n\u001b[0m",
      "\u001b[1;31mNameError\u001b[0m: name 'false' is not defined"
     ]
    }
   ],
   "source": [
    "false #needs to be captalized"
   ]
  },
  {
   "cell_type": "code",
   "execution_count": 76,
   "id": "771662c7",
   "metadata": {},
   "outputs": [],
   "source": [
    "#question number 2 of variables problems"
   ]
  },
  {
   "cell_type": "code",
   "execution_count": 77,
   "id": "ee80271a",
   "metadata": {},
   "outputs": [],
   "source": [
    "a = 5 # stores a as 5"
   ]
  },
  {
   "cell_type": "code",
   "execution_count": 78,
   "id": "196d5ac0",
   "metadata": {},
   "outputs": [],
   "source": [
    "b = a #lets b equal to q"
   ]
  },
  {
   "cell_type": "code",
   "execution_count": 81,
   "id": "756cabef",
   "metadata": {},
   "outputs": [
    {
     "name": "stdout",
     "output_type": "stream",
     "text": [
      "1892484671920\n"
     ]
    }
   ],
   "source": [
    "print(id(a)) #gives you the identification number that a is stored as."
   ]
  },
  {
   "cell_type": "code",
   "execution_count": 82,
   "id": "b9d11898",
   "metadata": {},
   "outputs": [
    {
     "data": {
      "text/plain": [
       "1892484671856"
      ]
     },
     "execution_count": 82,
     "metadata": {},
     "output_type": "execute_result"
    }
   ],
   "source": [
    "id(b) #gives you the identification number is b is stored as."
   ]
  },
  {
   "cell_type": "code",
   "execution_count": 79,
   "id": "64258a46",
   "metadata": {},
   "outputs": [],
   "source": [
    "c = b #stores c as equal to b"
   ]
  },
  {
   "cell_type": "code",
   "execution_count": 83,
   "id": "a17b6e00",
   "metadata": {},
   "outputs": [],
   "source": [
    "b = 3 #stores b as 3"
   ]
  },
  {
   "cell_type": "code",
   "execution_count": 84,
   "id": "5339ce68",
   "metadata": {},
   "outputs": [
    {
     "name": "stdout",
     "output_type": "stream",
     "text": [
      "5 3 5\n"
     ]
    }
   ],
   "source": [
    "print (a,b,c)"
   ]
  },
  {
   "cell_type": "code",
   "execution_count": 85,
   "id": "ae6077ee",
   "metadata": {},
   "outputs": [
    {
     "name": "stdout",
     "output_type": "stream",
     "text": [
      "1892484671920\n"
     ]
    }
   ],
   "source": [
    "print ( id(a))"
   ]
  },
  {
   "cell_type": "code",
   "execution_count": 86,
   "id": "3a56999e",
   "metadata": {},
   "outputs": [
    {
     "name": "stdout",
     "output_type": "stream",
     "text": [
      "1892484671856\n"
     ]
    }
   ],
   "source": [
    "print (id(b))"
   ]
  },
  {
   "cell_type": "code",
   "execution_count": 87,
   "id": "537a07cb",
   "metadata": {},
   "outputs": [
    {
     "name": "stdout",
     "output_type": "stream",
     "text": [
      "1892484671920\n"
     ]
    }
   ],
   "source": [
    "print (id (c))"
   ]
  },
  {
   "cell_type": "code",
   "execution_count": 88,
   "id": "e65ab2bc",
   "metadata": {},
   "outputs": [],
   "source": [
    "b= a #lets us know b is going to equal a"
   ]
  },
  {
   "cell_type": "code",
   "execution_count": 92,
   "id": "06bd8229",
   "metadata": {},
   "outputs": [],
   "source": [
    "b=5 #stores it as b equals 5"
   ]
  },
  {
   "cell_type": "code",
   "execution_count": 93,
   "id": "284921e9",
   "metadata": {},
   "outputs": [
    {
     "name": "stdout",
     "output_type": "stream",
     "text": [
      "1892484671920\n"
     ]
    }
   ],
   "source": [
    "print (id(a))"
   ]
  },
  {
   "cell_type": "code",
   "execution_count": 94,
   "id": "211158c3",
   "metadata": {},
   "outputs": [
    {
     "name": "stdout",
     "output_type": "stream",
     "text": [
      "1892484671920\n"
     ]
    }
   ],
   "source": [
    "print (id(b))"
   ]
  },
  {
   "cell_type": "code",
   "execution_count": 95,
   "id": "9b2fa5d8",
   "metadata": {},
   "outputs": [],
   "source": [
    "#problem b part a"
   ]
  },
  {
   "cell_type": "code",
   "execution_count": 96,
   "id": "70286fa8",
   "metadata": {},
   "outputs": [],
   "source": [
    "a= [5] #stores as list with just 5 in there"
   ]
  },
  {
   "cell_type": "code",
   "execution_count": 97,
   "id": "3c3103eb",
   "metadata": {},
   "outputs": [],
   "source": [
    "b = a # lets us know be is equal to a"
   ]
  },
  {
   "cell_type": "code",
   "execution_count": 100,
   "id": "f9ce5f0f",
   "metadata": {},
   "outputs": [
    {
     "name": "stdout",
     "output_type": "stream",
     "text": [
      "1892590078976 1892590078976\n"
     ]
    }
   ],
   "source": [
    "print (id(a), id(b))"
   ]
  },
  {
   "cell_type": "code",
   "execution_count": 101,
   "id": "cb5db55e",
   "metadata": {},
   "outputs": [],
   "source": [
    "b.append(1) #add 1 to the list"
   ]
  },
  {
   "cell_type": "code",
   "execution_count": 102,
   "id": "2f26c214",
   "metadata": {},
   "outputs": [
    {
     "name": "stdout",
     "output_type": "stream",
     "text": [
      "[5, 1] [5, 1]\n"
     ]
    }
   ],
   "source": [
    "print (a,b)  #gives us what the list for a and b is."
   ]
  },
  {
   "cell_type": "code",
   "execution_count": 103,
   "id": "507f0c9f",
   "metadata": {},
   "outputs": [
    {
     "name": "stdout",
     "output_type": "stream",
     "text": [
      "1892590078976 1892590078976\n"
     ]
    }
   ],
   "source": [
    "print (id(a),id(b)) #gives us the identification for a and b"
   ]
  },
  {
   "cell_type": "code",
   "execution_count": 104,
   "id": "bd73d138",
   "metadata": {},
   "outputs": [],
   "source": [
    "#probelem part c "
   ]
  },
  {
   "cell_type": "code",
   "execution_count": 105,
   "id": "d9e18122",
   "metadata": {},
   "outputs": [],
   "source": [
    "a = [5] #adds five to the lsit of a"
   ]
  },
  {
   "cell_type": "code",
   "execution_count": 106,
   "id": "a78dad9a",
   "metadata": {},
   "outputs": [],
   "source": [
    "b = list(a) #b equals to whatever list a is "
   ]
  },
  {
   "cell_type": "code",
   "execution_count": 107,
   "id": "9af9c2fd",
   "metadata": {},
   "outputs": [
    {
     "name": "stdout",
     "output_type": "stream",
     "text": [
      "[5] [5]\n"
     ]
    }
   ],
   "source": [
    "print (a,b) #prints list a and b"
   ]
  },
  {
   "cell_type": "code",
   "execution_count": 108,
   "id": "09735323",
   "metadata": {},
   "outputs": [
    {
     "name": "stdout",
     "output_type": "stream",
     "text": [
      "1892590076800 1892590078528\n"
     ]
    }
   ],
   "source": [
    "print (id(a), id(b)) #prints identification a and b "
   ]
  },
  {
   "cell_type": "code",
   "execution_count": 109,
   "id": "08e17a9a",
   "metadata": {},
   "outputs": [],
   "source": [
    "b = a[:] #used for slicing for starting index and ending index"
   ]
  },
  {
   "cell_type": "code",
   "execution_count": 110,
   "id": "4dcb1f69",
   "metadata": {},
   "outputs": [
    {
     "name": "stdout",
     "output_type": "stream",
     "text": [
      "[5] [5]\n"
     ]
    }
   ],
   "source": [
    "print (a,b) #lsit out a and b"
   ]
  },
  {
   "cell_type": "code",
   "execution_count": 111,
   "id": "28d7c5e9",
   "metadata": {},
   "outputs": [
    {
     "name": "stdout",
     "output_type": "stream",
     "text": [
      "1892590076800 1892590064640\n"
     ]
    }
   ],
   "source": [
    "print (id(a), id(b)) #lsit identification for a and b"
   ]
  },
  {
   "cell_type": "code",
   "execution_count": 112,
   "id": "b9026701",
   "metadata": {},
   "outputs": [],
   "source": [
    "#problem part D"
   ]
  },
  {
   "cell_type": "code",
   "execution_count": 113,
   "id": "fbbf36df",
   "metadata": {},
   "outputs": [],
   "source": [
    "a= (5,) #stores a as 5"
   ]
  },
  {
   "cell_type": "code",
   "execution_count": 114,
   "id": "8b0e1805",
   "metadata": {},
   "outputs": [],
   "source": [
    "b= tuple(a) #tuple are ued to store multiple items in a single variable"
   ]
  },
  {
   "cell_type": "code",
   "execution_count": 115,
   "id": "c8466c6d",
   "metadata": {},
   "outputs": [
    {
     "name": "stdout",
     "output_type": "stream",
     "text": [
      "1892589225152 1892589225152\n"
     ]
    }
   ],
   "source": [
    "print (id(a), id(b)) #prints out the identification\n"
   ]
  },
  {
   "cell_type": "code",
   "execution_count": 116,
   "id": "228638e0",
   "metadata": {},
   "outputs": [],
   "source": [
    "b = a[:] #stores b as equal to a"
   ]
  },
  {
   "cell_type": "code",
   "execution_count": 117,
   "id": "a7b0ad8d",
   "metadata": {},
   "outputs": [
    {
     "name": "stdout",
     "output_type": "stream",
     "text": [
      "1892589225152 1892589225152\n"
     ]
    }
   ],
   "source": [
    "print (id(a), id(b)) #print out the identification"
   ]
  },
  {
   "cell_type": "code",
   "execution_count": null,
   "id": "061da3a6",
   "metadata": {},
   "outputs": [],
   "source": [
    "#problem number 4 of variables problem"
   ]
  },
  {
   "cell_type": "code",
   "execution_count": 120,
   "id": "8aefcd65",
   "metadata": {},
   "outputs": [
    {
     "ename": "SyntaxError",
     "evalue": "invalid syntax (2447307333.py, line 6)",
     "output_type": "error",
     "traceback": [
      "\u001b[1;36m  File \u001b[1;32m\"C:\\Users\\betty\\AppData\\Local\\Temp\\ipykernel_14536\\2447307333.py\"\u001b[1;36m, line \u001b[1;32m6\u001b[0m\n\u001b[1;33m    print tan(pi)\u001b[0m\n\u001b[1;37m          ^\u001b[0m\n\u001b[1;31mSyntaxError\u001b[0m\u001b[1;31m:\u001b[0m invalid syntax\n"
     ]
    }
   ],
   "source": [
    "a = 2\n",
    "a1 = b\n",
    "x = 2\n",
    "y = X + 4 # is it 6?\n",
    "from Math import tan\n",
    "print tan(pi)\n",
    "pi = \"3.14159’\n",
    "print (tan(pi))\n",
    "c = 4**3**2**3\n",
    "_ = ((c-78564)/c + 32))\n",
    "discount = 12%\n",
    "AMOUNT = 120.-\n",
    "amount = 120$\n",
    "address = hpl@simula.no\n",
    "and = duck\n",
    "class = ’INF1100, gr 2\"\n",
    "continue_ = x > 0\n",
    "rev = fox = True\n",
    "Persian = ['a human language']\n",
    "true = fox is rev in Persian"
   ]
  },
  {
   "cell_type": "code",
   "execution_count": 121,
   "id": "530603ed",
   "metadata": {},
   "outputs": [
    {
     "ename": "SyntaxError",
     "evalue": "EOL while scanning string literal (2139656038.py, line 7)",
     "output_type": "error",
     "traceback": [
      "\u001b[1;36m  File \u001b[1;32m\"C:\\Users\\betty\\AppData\\Local\\Temp\\ipykernel_14536\\2139656038.py\"\u001b[1;36m, line \u001b[1;32m7\u001b[0m\n\u001b[1;33m    pi = \"3.14159’\u001b[0m\n\u001b[1;37m                  ^\u001b[0m\n\u001b[1;31mSyntaxError\u001b[0m\u001b[1;31m:\u001b[0m EOL while scanning string literal\n"
     ]
    }
   ],
   "source": [
    "a = 2\n",
    "a1 = b\n",
    "x = 2\n",
    "y = X + 4 # is it 6?\n",
    "from Math import tan\n",
    "print (tan(pi))\n",
    "pi = \"3.14159’\n",
    "print (tan(pi))\n",
    "c = 4**3**2**3\n",
    "_ = ((c-78564)/c + 32))\n",
    "discount = 12%\n",
    "AMOUNT = 120.-\n",
    "amount = 120$\n",
    "address = hpl@simula.no\n",
    "and = duck\n",
    "class = ’INF1100, gr 2\"\n",
    "continue_ = x > 0\n",
    "rev = fox = True\n",
    "Persian = ['a human language']\n",
    "true = fox is rev in Persian"
   ]
  },
  {
   "cell_type": "code",
   "execution_count": 122,
   "id": "2abc7d02",
   "metadata": {},
   "outputs": [
    {
     "ename": "SyntaxError",
     "evalue": "unmatched ')' (624180623.py, line 10)",
     "output_type": "error",
     "traceback": [
      "\u001b[1;36m  File \u001b[1;32m\"C:\\Users\\betty\\AppData\\Local\\Temp\\ipykernel_14536\\624180623.py\"\u001b[1;36m, line \u001b[1;32m10\u001b[0m\n\u001b[1;33m    _ = ((c-78564)/c + 32))\u001b[0m\n\u001b[1;37m                          ^\u001b[0m\n\u001b[1;31mSyntaxError\u001b[0m\u001b[1;31m:\u001b[0m unmatched ')'\n"
     ]
    }
   ],
   "source": [
    "a = 2\n",
    "a1 = b\n",
    "x = 2\n",
    "y = X + 4 # is it 6?\n",
    "from Math import tan\n",
    "print (tan(pi))\n",
    "pi = \"3.14159\"\n",
    "print (tan(pi))\n",
    "c = 4**3**2**3\n",
    "_ = ((c-78564)/c + 32))\n",
    "discount = 12%\n",
    "AMOUNT = 120.-\n",
    "amount = 120$\n",
    "address = hpl@simula.no\n",
    "and = duck\n",
    "class = ’INF1100, gr 2\"\n",
    "continue_ = x > 0\n",
    "rev = fox = True\n",
    "Persian = ['a human language']\n",
    "true = fox is rev in Persian"
   ]
  },
  {
   "cell_type": "code",
   "execution_count": 124,
   "id": "f5313521",
   "metadata": {},
   "outputs": [
    {
     "ename": "SyntaxError",
     "evalue": "invalid syntax (3347672489.py, line 11)",
     "output_type": "error",
     "traceback": [
      "\u001b[1;36m  File \u001b[1;32m\"C:\\Users\\betty\\AppData\\Local\\Temp\\ipykernel_14536\\3347672489.py\"\u001b[1;36m, line \u001b[1;32m11\u001b[0m\n\u001b[1;33m    discount = 12%\u001b[0m\n\u001b[1;37m                  ^\u001b[0m\n\u001b[1;31mSyntaxError\u001b[0m\u001b[1;31m:\u001b[0m invalid syntax\n"
     ]
    }
   ],
   "source": [
    "a = 2\n",
    "a1 = b\n",
    "x = 2\n",
    "y = X + 4 # is it 6?\n",
    "from Math import tan\n",
    "print (tan(pi))\n",
    "pi = \"3.14159\"\n",
    "print (tan(pi))\n",
    "c = 4**3**2**3\n",
    "_ = (c-78564)/(c + 32)\n",
    "discount = 12%\n",
    "AMOUNT = 120.-\n",
    "amount = 120$\n",
    "address = hpl@simula.no\n",
    "and = duck\n",
    "class = ’INF1100, gr 2\"\n",
    "continue_ = x > 0\n",
    "rev = fox = True\n",
    "Persian = ['a human language']\n",
    "true = fox is rev in Persian"
   ]
  },
  {
   "cell_type": "code",
   "execution_count": 128,
   "id": "7e0bf987",
   "metadata": {},
   "outputs": [
    {
     "ename": "SyntaxError",
     "evalue": "invalid syntax (3105969784.py, line 12)",
     "output_type": "error",
     "traceback": [
      "\u001b[1;36m  File \u001b[1;32m\"C:\\Users\\betty\\AppData\\Local\\Temp\\ipykernel_14536\\3105969784.py\"\u001b[1;36m, line \u001b[1;32m12\u001b[0m\n\u001b[1;33m    AMOUNT = 120.-\u001b[0m\n\u001b[1;37m                  ^\u001b[0m\n\u001b[1;31mSyntaxError\u001b[0m\u001b[1;31m:\u001b[0m invalid syntax\n"
     ]
    }
   ],
   "source": [
    "a = 2\n",
    "a1 = b\n",
    "x = 2\n",
    "y = X + 4 # is it 6?\n",
    "from Math import tan\n",
    "print (tan(pi))\n",
    "pi = \"3.14159\"\n",
    "print (tan(pi))\n",
    "c = 4**3**2**3\n",
    "_ = (c-78564)/(c + 32)\n",
    "discount = 12 % n\n",
    "AMOUNT = 120.-\n",
    "amount = 120$\n",
    "address = hpl@simula.no\n",
    "and = duck\n",
    "class = ’INF1100, gr 2\"\n",
    "continue_ = x > 0\n",
    "rev = fox = True\n",
    "Persian = ['a human language']\n",
    "true = fox is rev in Persian"
   ]
  },
  {
   "cell_type": "code",
   "execution_count": 129,
   "id": "34e031f8",
   "metadata": {},
   "outputs": [
    {
     "ename": "SyntaxError",
     "evalue": "invalid syntax (3758543605.py, line 13)",
     "output_type": "error",
     "traceback": [
      "\u001b[1;36m  File \u001b[1;32m\"C:\\Users\\betty\\AppData\\Local\\Temp\\ipykernel_14536\\3758543605.py\"\u001b[1;36m, line \u001b[1;32m13\u001b[0m\n\u001b[1;33m    amount = 120$\u001b[0m\n\u001b[1;37m                ^\u001b[0m\n\u001b[1;31mSyntaxError\u001b[0m\u001b[1;31m:\u001b[0m invalid syntax\n"
     ]
    }
   ],
   "source": [
    "a = 2\n",
    "a1 = b\n",
    "x = 2\n",
    "y = X + 4 # is it 6?\n",
    "from Math import tan\n",
    "print (tan(pi))\n",
    "pi = \"3.14159\"\n",
    "print (tan(pi))\n",
    "c = 4**3**2**3\n",
    "_ = (c-78564)/(c + 32)\n",
    "discount = 12 % n\n",
    "AMOUNT = 120.\n",
    "amount = 120$\n",
    "address = hpl@simula.no\n",
    "and = duck\n",
    "class = ’INF1100, gr 2\"\n",
    "continue_ = x > 0\n",
    "rev = fox = True\n",
    "Persian = ['a human language']\n",
    "true = fox is rev in Persian"
   ]
  },
  {
   "cell_type": "code",
   "execution_count": 130,
   "id": "78d3d468",
   "metadata": {},
   "outputs": [
    {
     "ename": "SyntaxError",
     "evalue": "invalid syntax (3522252590.py, line 15)",
     "output_type": "error",
     "traceback": [
      "\u001b[1;36m  File \u001b[1;32m\"C:\\Users\\betty\\AppData\\Local\\Temp\\ipykernel_14536\\3522252590.py\"\u001b[1;36m, line \u001b[1;32m15\u001b[0m\n\u001b[1;33m    and = duck\u001b[0m\n\u001b[1;37m    ^\u001b[0m\n\u001b[1;31mSyntaxError\u001b[0m\u001b[1;31m:\u001b[0m invalid syntax\n"
     ]
    }
   ],
   "source": [
    "a = 2\n",
    "a1 = b\n",
    "x = 2\n",
    "y = X + 4 # is it 6?\n",
    "from Math import tan\n",
    "print (tan(pi))\n",
    "pi = \"3.14159\"\n",
    "print (tan(pi))\n",
    "c = 4**3**2**3\n",
    "_ = (c-78564)/(c + 32)\n",
    "discount = 12 % n\n",
    "AMOUNT = 120.\n",
    "amount = 120\n",
    "address = hpl@simula.no\n",
    "and = duck\n",
    "class = ’INF1100, gr 2\"\n",
    "continue_ = x > 0\n",
    "rev = fox = True\n",
    "Persian = ['a human language']\n",
    "true = fox is rev in Persian"
   ]
  },
  {
   "cell_type": "code",
   "execution_count": 144,
   "id": "7f34ecd1",
   "metadata": {},
   "outputs": [
    {
     "ename": "SyntaxError",
     "evalue": "invalid syntax (4247536535.py, line 16)",
     "output_type": "error",
     "traceback": [
      "\u001b[1;36m  File \u001b[1;32m\"C:\\Users\\betty\\AppData\\Local\\Temp\\ipykernel_14536\\4247536535.py\"\u001b[1;36m, line \u001b[1;32m16\u001b[0m\n\u001b[1;33m    class = ’INF1100, gr 2\"\u001b[0m\n\u001b[1;37m          ^\u001b[0m\n\u001b[1;31mSyntaxError\u001b[0m\u001b[1;31m:\u001b[0m invalid syntax\n"
     ]
    }
   ],
   "source": [
    "a = 2\n",
    "a1 = b\n",
    "x = 2\n",
    "y = X + 4 # is it 6?\n",
    "from Math import tan\n",
    "print (tan(pi))\n",
    "pi = \"3.14159\"\n",
    "print (tan(pi))\n",
    "c = 4**3**2**3\n",
    "_ = (c-78564)/(c + 32)\n",
    "discount = 12 % n\n",
    "AMOUNT = 120.\n",
    "amount = 120\n",
    "address = hpl@simula.no\n",
    "And = duck\n",
    "class = ’INF1100, gr 2\"\n",
    "continue_ = x > 0\n",
    "rev = fox = True\n",
    "Persian = ['a human language']\n",
    "true = fox is rev in Persia\n",
    "d,d"
   ]
  },
  {
   "cell_type": "code",
   "execution_count": 143,
   "id": "101e5a8c",
   "metadata": {},
   "outputs": [
    {
     "ename": "SyntaxError",
     "evalue": "invalid syntax (4060617596.py, line 16)",
     "output_type": "error",
     "traceback": [
      "\u001b[1;36m  File \u001b[1;32m\"C:\\Users\\betty\\AppData\\Local\\Temp\\ipykernel_14536\\4060617596.py\"\u001b[1;36m, line \u001b[1;32m16\u001b[0m\n\u001b[1;33m    class = ’INF1100, gr 2\"\u001b[0m\n\u001b[1;37m          ^\u001b[0m\n\u001b[1;31mSyntaxError\u001b[0m\u001b[1;31m:\u001b[0m invalid syntax\n"
     ]
    }
   ],
   "source": [
    "a = 2\n",
    "a1 = b\n",
    "x = 2\n",
    "y = X + 4 # is it 6?\n",
    "from Math import tan\n",
    "print (tan(pi))\n",
    "pi = \"3.14159\"\n",
    "print (tan(pi))\n",
    "c = 4**3**2**3\n",
    "_ = (c-78564)/(c + 32)\n",
    "discount = 12 % n\n",
    "AMOUNT = 120.\n",
    "amount = 120\n",
    "address = hpl@simula.no\n",
    "And = duck\n",
    "class = ’INF1100, gr 2\"\n",
    "continue_ = x > 0\n",
    "rev = fox = True\n",
    "Persian = ['a human language']\n",
    "true = fox is rev in Persian"
   ]
  },
  {
   "cell_type": "code",
   "execution_count": 145,
   "id": "3fde98ac",
   "metadata": {},
   "outputs": [],
   "source": [
    "#problem #5"
   ]
  },
  {
   "cell_type": "code",
   "execution_count": 196,
   "id": "c445e848",
   "metadata": {},
   "outputs": [
    {
     "name": "stdout",
     "output_type": "stream",
     "text": [
      "The life expectancy for the millennials is projected to be 120 years! (But don't believe it...) \n",
      " \n",
      "\tA recent study published in the journal of Nature, discovered that over the past century, although life expectancy has significantly increased due to technological advances, the maximum life span of the oldest people in the world has not changed much. \n",
      " \n",
      "Cardano was the first to introduce complex numbers of the form a + sqrt(-b) into algebra, but he had misgivings about it. \n",
      "In his solution to an algebra equation, he encountered the solution 5 + sqrt(-15) for the unknown, which is now mathematically represented by \n",
      " \n",
      "\t (5+3.872983346207417j) \n",
      " \n",
      "in Python, which can also be obtained as the addition of real and imaginary numbers in Python like this \n",
      " \n",
      "\t5 + sqrt(-15) = (5+3.872983346207417j), \n",
      " \n",
      "\t which can also be manually stated as \n",
      " \n",
      "\t (5+3.872983346207417j) \n",
      " \n",
      "One final note: \n",
      " \n",
      "\t In python the sqrt function from math and cmath modules are different.The sqrt function that returns 'float' results is sqrt from the math module.Therefore, if using the math module,then, \n",
      " \n",
      "\t\tsqrt(25) = 5.0000, \n",
      " \n",
      "\twhich is a float (real number). \n",
      " \n",
      "Also note that by convention, 0**0 = 1 in Python. And division by 0, will give you a runtime exception: 1/0 = NaN\n"
     ]
    }
   ],
   "source": [
    "print(\"The life expectancy for the millennials is projected to be 120 years! (But don't believe it...)\",\"\\n\",\"\\n\" \"\\t\" \"A recent study published in the journal of Nature, discovered that over the past century, although life expectancy has significantly increased due to technological advances, the maximum life span of the oldest people in the world has not changed much.\",\"\\n\",\"\\n\" \"Cardano was the first to introduce complex numbers of the form a + sqrt(-b) into algebra, but he had misgivings about it.\",\"\\n\"\n",
    "\"In his solution to an algebra equation, he encountered the solution 5 + sqrt(-15) for the unknown, which is now mathematically represented by\",\"\\n\",\"\\n\"\"\\t\"\" (5+3.872983346207417j)\",\"\\n\",\"\\n\"\"in Python, which can also be obtained as the addition of real and imaginary numbers in Python like this\",\"\\n\",\"\\n\"\"\\t\"\"5 + sqrt(-15) = (5+3.872983346207417j),\",\"\\n\",\"\\n\"\"\\t\"\" which can also be manually stated as\",\"\\n\",\"\\n\"\"\\t\"\" (5+3.872983346207417j)\",\"\\n\",\"\\n\"\"One final note:\",\"\\n\",\"\\n\"\"\\t\",\"In python the sqrt function from math and cmath modules are different.The sqrt function that returns 'float' results is sqrt from the math module.Therefore, if using the math module,then,\",\"\\n\",\"\\n\"\"\\t\"\"\\t\"\"sqrt(25) = 5.0000,\",\"\\n\",\"\\n\"\"\\t\"\"which is a float (real number).\",\"\\n\",\"\\n\"\"Also note that by convention, 0**0 = 1 in Python. And division by 0, will give you a runtime exception: 1/0 = NaN\")\n"
   ]
  },
  {
   "cell_type": "code",
   "execution_count": 184,
   "id": "b8c5ed34",
   "metadata": {},
   "outputs": [],
   "source": [
    "#question Number 6"
   ]
  },
  {
   "cell_type": "code",
   "execution_count": 1,
   "id": "6c3f447f",
   "metadata": {},
   "outputs": [],
   "source": [
    "import math "
   ]
  },
  {
   "cell_type": "code",
   "execution_count": 1,
   "id": "0b4bed8b",
   "metadata": {},
   "outputs": [
    {
     "name": "stdout",
     "output_type": "stream",
     "text": [
      "396.5763425294507\n"
     ]
    }
   ],
   "source": [
    "import math\n",
    "import numpy as np\n",
    "\n",
    "M = 67\n",
    "p = 1.038\n",
    "c = 3.7\n",
    "K= 5.4*(10**(-3))\n",
    "TW = 100\n",
    "TY = 70 \n",
    "T0_fridge = 4\n",
    "T0_room = 20\n",
    "\n",
    "t = ( (M**(2/3)*c*p**(1/3))/(K*(math.pi**2)*((4*math.pi)/3)**(2/3)) ) * np.log(0.76*((T0_fridge-TW)/(TY-TW)))\n",
    "print(t)"
   ]
  },
  {
   "cell_type": "code",
   "execution_count": 11,
   "id": "41fe7a33",
   "metadata": {},
   "outputs": [
    {
     "ename": "SyntaxError",
     "evalue": "invalid syntax (2293946658.py, line 1)",
     "output_type": "error",
     "traceback": [
      "\u001b[1;36m  File \u001b[1;32m\"C:\\Users\\betty\\AppData\\Local\\Temp\\ipykernel_18020\\2293946658.py\"\u001b[1;36m, line \u001b[1;32m1\u001b[0m\n\u001b[1;33m    t = ( (M**(2/3)*c*t = ( (M**(2/3)*c*p**(1/3))/(K*(math.pi**2)*((4*math.pi)/3)**(2/3)) ) * np.log(0.76*((T0_room-TW)/(TY-TW)))**(1/3))/(K*(math.pi**2)*((4*math.pi)/3)**(2/3)) ) * np.log(0.76*((T0_room-TW)/(TY-TW)))\u001b[0m\n\u001b[1;37m                        ^\u001b[0m\n\u001b[1;31mSyntaxError\u001b[0m\u001b[1;31m:\u001b[0m invalid syntax\n"
     ]
    }
   ],
   "source": []
  },
  {
   "cell_type": "code",
   "execution_count": 12,
   "id": "6d37cfc0",
   "metadata": {},
   "outputs": [],
   "source": [
    "#example 7"
   ]
  },
  {
   "cell_type": "code",
   "execution_count": 13,
   "id": "96b90ada",
   "metadata": {},
   "outputs": [],
   "source": [
    "value = 'student'"
   ]
  },
  {
   "cell_type": "code",
   "execution_count": 14,
   "id": "43979b28",
   "metadata": {},
   "outputs": [
    {
     "name": "stdout",
     "output_type": "stream",
     "text": [
      "{'Christian-Andrew Bagby-wright': 'student', 'Matthew Chrysler': 'student', 'Niyousha Davachi': 'student', 'Pauline Dredger': 'student', 'Marcos Guillen': 'student', 'Lauren Kuffel': 'student', 'Shashank Kumbhare': 'student', 'Hany Mahdy': 'student', 'Sarah Moorman': 'student', 'Andrew Myers': 'student', 'Joshua Osborne': 'student', 'Rebecca Proni': 'student', 'Amir Shahmoradi': 'student', 'Carolina Vedovato': 'student'}\n"
     ]
    }
   ],
   "source": [
    "a = dict.fromkeys(['Christian-Andrew Bagby-wright','Matthew Chrysler','Niyousha Davachi','Pauline Dredger','Marcos Guillen','Lauren Kuffel','Shashank Kumbhare','Hany Mahdy','Sarah Moorman','Andrew Myers','Joshua Osborne','Rebecca Proni','Amir Shahmoradi','Carolina Vedovato'], value)\n",
    "print(a)"
   ]
  },
  {
   "cell_type": "code",
   "execution_count": 15,
   "id": "6e23e581",
   "metadata": {},
   "outputs": [],
   "source": [
    "a['Amir Shahmoradi']= 'instructor'"
   ]
  },
  {
   "cell_type": "code",
   "execution_count": 16,
   "id": "d47fcfcb",
   "metadata": {},
   "outputs": [
    {
     "name": "stdout",
     "output_type": "stream",
     "text": [
      "{'Christian-Andrew Bagby-wright': 'student', 'Matthew Chrysler': 'student', 'Niyousha Davachi': 'student', 'Pauline Dredger': 'student', 'Marcos Guillen': 'student', 'Lauren Kuffel': 'student', 'Shashank Kumbhare': 'student', 'Hany Mahdy': 'student', 'Sarah Moorman': 'student', 'Andrew Myers': 'student', 'Joshua Osborne': 'student', 'Rebecca Proni': 'student', 'Amir Shahmoradi': 'instructor', 'Carolina Vedovato': 'student'}\n"
     ]
    }
   ],
   "source": [
    "print(a)"
   ]
  },
  {
   "cell_type": "code",
   "execution_count": null,
   "id": "c3312ab8",
   "metadata": {},
   "outputs": [],
   "source": [
    "#example 8"
   ]
  }
 ],
 "metadata": {
  "kernelspec": {
   "display_name": "Python 3 (ipykernel)",
   "language": "python",
   "name": "python3"
  },
  "language_info": {
   "codemirror_mode": {
    "name": "ipython",
    "version": 3
   },
   "file_extension": ".py",
   "mimetype": "text/x-python",
   "name": "python",
   "nbconvert_exporter": "python",
   "pygments_lexer": "ipython3",
   "version": "3.9.13"
  }
 },
 "nbformat": 4,
 "nbformat_minor": 5
}
